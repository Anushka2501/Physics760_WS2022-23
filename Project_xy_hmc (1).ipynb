{
 "cells": [
  {
   "cell_type": "code",
   "execution_count": 20,
   "id": "bd3b7a37-d87b-4c79-8162-b760d130ac80",
   "metadata": {},
   "outputs": [],
   "source": [
    "%matplotlib inline\n",
    "\n",
    "import numpy as np\n",
    "import matplotlib.pyplot as plt\n",
    "import scipy.special as sp\n",
    "import math"
   ]
  },
  {
   "cell_type": "code",
   "execution_count": 21,
   "id": "97cfb881-df52-448d-a5a6-316bc0aeb310",
   "metadata": {},
   "outputs": [
    {
     "name": "stdout",
     "output_type": "stream",
     "text": [
      "2\n"
     ]
    }
   ],
   "source": [
    "# Defining some variables\n",
    "\n",
    "N = 5\n",
    "L =  np.array([[2*np.pi*np.random.uniform() for x in range(N)] for y in range(N)]) # ask\n",
    "N_md = 4\n",
    "p_0 = np.random.normal(size=(N,N))\n",
    "J=1\n",
    "beta=1\n",
    "\n",
    "print(np.ndim(L))"
   ]
  },
  {
   "cell_type": "code",
   "execution_count": 22,
   "id": "8a8c8eaf-671b-4351-a12c-d6e36853c9d8",
   "metadata": {},
   "outputs": [
    {
     "data": {
      "text/plain": [
       "-0.735115672079709"
      ]
     },
     "execution_count": 22,
     "metadata": {},
     "output_type": "execute_result"
    }
   ],
   "source": [
    "# Defining the Hamiltonian XY model\n",
    "\n",
    "def Hamiltonian2D(J, L):\n",
    "    Hamiltonian2D = 0.\n",
    "    n = np.shape(L)[0]\n",
    "    for x in range (np.shape(L)[0]):\n",
    "        for y in range (np.shape(L)[0]):\n",
    "            Hamiltonian2D -= J * ((np.cos(L[x, y] - L[x, (y+1)%n])) + (np.cos(L[x, y] - L[x, (y-1)%n])) \n",
    "                                  + (np.cos(L[x, y] - L[(x+1)%n, y])) + (np.cos(L[x, y] - L[(x-1)%n, y])))\n",
    "    \n",
    "    \n",
    "    return np.array(Hamiltonian2D)/2\n",
    "Hamiltonian2D(1,L)"
   ]
  },
  {
   "cell_type": "code",
   "execution_count": 23,
   "id": "8da6fbdd-8597-4dbf-8086-65b6f5234682",
   "metadata": {},
   "outputs": [],
   "source": [
    "# Defining the artifical Hamiltonian XY model\n",
    "\n",
    "def Hamiltonian2D_art(J, L, P, beta):\n",
    "    n = np.shape(L)[0]\n",
    "    Hamiltonian2D_art = sum(sum(P**2))/2 + beta*Hamiltonian2D(J, L)\n",
    "    return Hamiltonian2D_art\n",
    "\n",
    "# print(Hamiltonian2D_art(1, L, 1, 1 ))"
   ]
  },
  {
   "cell_type": "code",
   "execution_count": 24,
   "id": "27f10f8e-3076-41ce-8a11-12e447ebf20a",
   "metadata": {},
   "outputs": [
    {
     "name": "stdout",
     "output_type": "stream",
     "text": [
      "[[ 0.76682179 -3.35576371 -0.04536684 -0.36190724  3.31552386]\n",
      " [ 1.13212417 -0.82784098  2.87332834  1.23534977 -2.28508627]\n",
      " [ 0.07334756 -0.16029677  0.13333975  0.55635059  1.17138395]\n",
      " [-0.65402193 -2.14262811 -0.34150934  0.32517532  0.78509187]\n",
      " [-2.10287399  2.71315921 -0.84731624 -2.17363315  0.21724837]]\n"
     ]
    }
   ],
   "source": [
    "# Defining the equations of motion\n",
    "\n",
    "def P_dot_i_2D(J, L):\n",
    "    n = np.shape(L)[0]\n",
    "    P_dot_i_2D = np.zeros((n,n))\n",
    "\n",
    "    for x in range (np.shape(L)[0]):\n",
    "        for y in range (np.shape(L)[0]):\n",
    "            P_dot_i_2D[x,y] -= J * ((np.sin(L[x, y] - L[x, (y+1)%n])) + (np.sin(L[x, y] - L[x, (y-1)%n])) \n",
    "                                    + (np.sin(L[x, y] - L[(x+1)%n, y])) + (np.sin(L[x, y] - L[(x-1)%n, y])))\n",
    "    return P_dot_i_2D*beta\n",
    "# print(P_dot_i_2D(1, L, 1, 1))\n",
    "\n",
    "def phi_dot(P):   # confirm\n",
    "    return P\n",
    "            \n",
    "print(P_dot_i_2D(1, L))\n"
   ]
  },
  {
   "cell_type": "code",
   "execution_count": 25,
   "id": "099fa0a1-4e18-42c7-a7fe-658c9676ef50",
   "metadata": {},
   "outputs": [
    {
     "name": "stdout",
     "output_type": "stream",
     "text": [
      "(array([[ 1.78601828e+00, -2.19093598e+00, -1.69793788e-01,\n",
      "        -4.68249458e-03,  3.44296979e+00],\n",
      "       [ 2.39027164e+00, -1.11101547e+00,  3.00564386e+00,\n",
      "         2.62066907e+00, -4.74575797e+00],\n",
      "       [-7.69543492e-02,  1.85181963e-01, -1.10871380e+00,\n",
      "        -6.66247437e-01,  1.55486308e+00],\n",
      "       [-1.01801491e+00, -3.36477313e+00, -2.07463313e-02,\n",
      "         4.77447134e-01,  9.97581088e-01],\n",
      "       [-1.10247577e+00,  2.26871197e+00, -6.07654486e-01,\n",
      "        -3.61644597e+00,  1.00096022e+00]]), array([[3.9297004 , 3.99940555, 2.23395982, 1.70169034, 2.0169658 ],\n",
      "       [0.38325003, 1.53912395, 1.65728361, 2.15598099, 5.13974652],\n",
      "       [6.10934498, 2.01838845, 1.2434094 , 3.71136967, 5.22675156],\n",
      "       [1.53685994, 3.23346248, 3.2100255 , 0.76661399, 1.37622636],\n",
      "       [2.91860074, 2.78046659, 3.10195335, 2.09818463, 2.20468686]]))\n"
     ]
    }
   ],
   "source": [
    "# Leapfrog integrator\n",
    "\n",
    "def leapfrog_2D(N_md, p_0,J, L): \n",
    "    epsilon = 1/N_md\n",
    "    p = p_0\n",
    "    L_new = L\n",
    "    L_new += phi_dot(p)*epsilon/2\n",
    "    L_new = abs(L_new%(2*np.pi))\n",
    "    for i in range(N_md-1):\n",
    "        p += P_dot_i_2D(J, L)*epsilon\n",
    "        L_new += phi_dot(p)*epsilon\n",
    "        L_new = abs(L_new%(2*np.pi))\n",
    "    \n",
    "    p +=  P_dot_i_2D(J, L)*epsilon/2\n",
    "    L_new -= phi_dot(p)*epsilon/2\n",
    "    L_new = abs(L_new%(2*np.pi))\n",
    "    return p, L_new\n",
    "\n",
    "print(leapfrog_2D(N_md,p_0, J, L))"
   ]
  },
  {
   "cell_type": "code",
   "execution_count": 26,
   "id": "28a0dc5b-471d-4abb-912f-f83736f2f741",
   "metadata": {},
   "outputs": [
    {
     "name": "stdout",
     "output_type": "stream",
     "text": [
      "ini= 10662.036426656732\n",
      "final= 10671.118479150738\n"
     ]
    }
   ],
   "source": [
    "# To see the convergence of leapfrog integrator\n",
    "\n",
    "diff = []\n",
    "range_1 =[10*i for i in range(10,100,5)]\n",
    "p_0 = np.random.normal(size=(N,N))\n",
    "for N_md in range_1:\n",
    "   \n",
    "    arr = leapfrog_2D(N_md, p_0, J,L)\n",
    "    p_f = arr[0]          # We need final values of p_f and phi_f to calculate H_f\n",
    "    Lat_ev = arr[1]\n",
    "    H_f = Hamiltonian2D_art(J, Lat_ev, p_f, beta)\n",
    "    H_0 = Hamiltonian2D_art(J, L, p_0, beta)\n",
    "# dimension of L is 2 and p_0 \n",
    "# The following is the quantity we want on y-axis\n",
    "    diff.append(abs((H_f-H_0)/H_0)) \n",
    "    \n",
    "# print(p_0)\n",
    "# print(L)\n",
    "# print(phi_f)\n",
    "\n",
    "print(\"ini=\",H_0)\n",
    "print(\"final=\",H_f)"
   ]
  },
  {
   "cell_type": "code",
   "execution_count": 27,
   "id": "ac208045-7748-4a4d-80f5-71cdcfde2778",
   "metadata": {},
   "outputs": [
    {
     "data": {
      "image/png": "[encoded data removed]",
      "text/plain": [
       "<Figure size 864x720 with 1 Axes>"
      ]
     },
     "metadata": {
      "needs_background": "light"
     },
     "output_type": "display_data"
    }
   ],
   "source": [
    "\n",
    "plt.figure(figsize=(12,10))\n",
    "plt.xlabel('Number of Leapfrog Steps (N_md)')\n",
    "plt.ylabel('Fractional Difference in Energy')\n",
    "plt.title('Convergence Plot')\n",
    "plt.grid()\n",
    "plt.plot(range_1, diff,'.')\n",
    "plt.show()\n"
   ]
  },
  {
   "cell_type": "code",
   "execution_count": 28,
   "id": "05d7c540-eeca-4af1-99ac-bd618f178dab",
   "metadata": {},
   "outputs": [],
   "source": [
    "# Now we code the HMC algorithm\n",
    "\n",
    "# Hamiltonian2D_art(J, L, P, beta)\n",
    "\n",
    "# For me L_i == random sample\n",
    "\n",
    "def markov_chain(L_i,N_cfg,N_md,beta_new,J):\n",
    "    chain = []\n",
    "    chain.append(L_i)\n",
    "    for i in range(N_cfg):\n",
    "        # Random sample\n",
    "        p_hmc = np.random.normal(size=(N,N))\n",
    "        new = leapfrog_2D(J,chain[-1], p_hmc, beta) # Integrating leapfrog algorithm\n",
    "        prob = np.exp(Hamiltonian2D_art(J,chain[-1],p_hmc,beta)-Hamiltonian2D_art(J,new[1],new[0],beta))\n",
    "#  Given probability distribution function defined above\n",
    "        if prob > np.random.uniform(0,1):   # Accept/reject\n",
    "            chain.append(new[1])  \n",
    "        else:                           \n",
    "            chain.append(chain[-1]) \n",
    "    return chain\n",
    "\n"
   ]
  },
  {
   "cell_type": "code",
   "execution_count": 29,
   "id": "00ecf7cb-0322-4fc5-9ccb-629be4ee28ec",
   "metadata": {},
   "outputs": [],
   "source": [
    "# def variables(L_i, N_cfg, N_md, J, beta_new, obs):\n",
    "#     chain = markov_chain(L_i,N_cfg,N_md,beta,J)\n",
    "#     m = 0.0\n",
    "#     E = 0.0\n",
    "#     for i in range(np.shape(chain)[0]):\n",
    "#         m += np.sum(L_i)\n",
    "#         E += Hamiltonian2D(J,L_i)  \n",
    "#     m = m/N*N\n",
    "#     E = E/N*N\n",
    "#     if obs == \"m\":\n",
    "#         var = m\n",
    "#     if obs == \"E\":\n",
    "#         var = E\n",
    "        \n",
    "#     return var\n",
    "        \n",
    "#     # return m,E"
   ]
  },
  {
   "cell_type": "code",
   "execution_count": 35,
   "id": "4bf08da4-5079-4fdb-9a13-99c687a55d58",
   "metadata": {},
   "outputs": [],
   "source": [
    "def variables(L_i, N_cfg, N_md, J, beta_new, obs):\n",
    "    chain = markov_chain(L_i,N_cfg,N_md,beta_new,J)\n",
    "    m = 0.0\n",
    "    E = 0.0\n",
    "    for i in chain:\n",
    "        m += np.sum(i)\n",
    "        E += Hamiltonian2D(J,i)  \n",
    "    m = m/N*N\n",
    "    E = E/N*N\n",
    "    if obs == \"m\":\n",
    "        var = m\n",
    "    if obs == \"E\":\n",
    "        var = E\n",
    "        \n",
    "    return var\n",
    "        \n",
    "    # return m,E"
   ]
  },
  {
   "cell_type": "code",
   "execution_count": 39,
   "id": "3d04a83c-66f6-436a-8f4d-87683d38fa96",
   "metadata": {},
   "outputs": [
    {
     "ename": "IndexError",
     "evalue": "tuple index out of range",
     "output_type": "error",
     "traceback": [
      "\u001b[0;31m---------------------------------------------------------------------------\u001b[0m",
      "\u001b[0;31mIndexError\u001b[0m                                Traceback (most recent call last)",
      "\u001b[0;32m/tmp/ipykernel_69/344377776.py\u001b[0m in \u001b[0;36m<cell line: 7>\u001b[0;34m()\u001b[0m\n\u001b[1;32m      5\u001b[0m \u001b[0;31m# sample but will we define it like this? if we do this then it will be the same as L but shouldnt be same right?\u001b[0m\u001b[0;34m\u001b[0m\u001b[0;34m\u001b[0m\u001b[0m\n\u001b[1;32m      6\u001b[0m \u001b[0;34m\u001b[0m\u001b[0m\n\u001b[0;32m----> 7\u001b[0;31m \u001b[0mmag_5\u001b[0m \u001b[0;34m=\u001b[0m \u001b[0;34m[\u001b[0m\u001b[0mvariables\u001b[0m\u001b[0;34m(\u001b[0m\u001b[0mL_i\u001b[0m\u001b[0;34m,\u001b[0m \u001b[0mN_cfg\u001b[0m\u001b[0;34m,\u001b[0m \u001b[0mN_md\u001b[0m\u001b[0;34m,\u001b[0m \u001b[0mJ\u001b[0m\u001b[0;34m,\u001b[0m \u001b[0;36m1\u001b[0m\u001b[0;34m/\u001b[0m\u001b[0mbeta\u001b[0m\u001b[0;34m,\u001b[0m \u001b[0;34m\"m\"\u001b[0m\u001b[0;34m)\u001b[0m \u001b[0;32mfor\u001b[0m \u001b[0mbeta\u001b[0m \u001b[0;32min\u001b[0m \u001b[0mbeta_new\u001b[0m\u001b[0;34m]\u001b[0m\u001b[0;34m\u001b[0m\u001b[0;34m\u001b[0m\u001b[0m\n\u001b[0m\u001b[1;32m      8\u001b[0m \u001b[0;34m\u001b[0m\u001b[0m\n\u001b[1;32m      9\u001b[0m \u001b[0mplt\u001b[0m\u001b[0;34m.\u001b[0m\u001b[0mfigure\u001b[0m\u001b[0;34m(\u001b[0m\u001b[0mfigsize\u001b[0m \u001b[0;34m=\u001b[0m \u001b[0;34m(\u001b[0m\u001b[0;36m12\u001b[0m\u001b[0;34m,\u001b[0m\u001b[0;36m10\u001b[0m\u001b[0;34m)\u001b[0m\u001b[0;34m)\u001b[0m\u001b[0;34m\u001b[0m\u001b[0;34m\u001b[0m\u001b[0m\n",
      "\u001b[0;32m/tmp/ipykernel_69/344377776.py\u001b[0m in \u001b[0;36m<listcomp>\u001b[0;34m(.0)\u001b[0m\n\u001b[1;32m      5\u001b[0m \u001b[0;31m# sample but will we define it like this? if we do this then it will be the same as L but shouldnt be same right?\u001b[0m\u001b[0;34m\u001b[0m\u001b[0;34m\u001b[0m\u001b[0m\n\u001b[1;32m      6\u001b[0m \u001b[0;34m\u001b[0m\u001b[0m\n\u001b[0;32m----> 7\u001b[0;31m \u001b[0mmag_5\u001b[0m \u001b[0;34m=\u001b[0m \u001b[0;34m[\u001b[0m\u001b[0mvariables\u001b[0m\u001b[0;34m(\u001b[0m\u001b[0mL_i\u001b[0m\u001b[0;34m,\u001b[0m \u001b[0mN_cfg\u001b[0m\u001b[0;34m,\u001b[0m \u001b[0mN_md\u001b[0m\u001b[0;34m,\u001b[0m \u001b[0mJ\u001b[0m\u001b[0;34m,\u001b[0m \u001b[0;36m1\u001b[0m\u001b[0;34m/\u001b[0m\u001b[0mbeta\u001b[0m\u001b[0;34m,\u001b[0m \u001b[0;34m\"m\"\u001b[0m\u001b[0;34m)\u001b[0m \u001b[0;32mfor\u001b[0m \u001b[0mbeta\u001b[0m \u001b[0;32min\u001b[0m \u001b[0mbeta_new\u001b[0m\u001b[0;34m]\u001b[0m\u001b[0;34m\u001b[0m\u001b[0;34m\u001b[0m\u001b[0m\n\u001b[0m\u001b[1;32m      8\u001b[0m \u001b[0;34m\u001b[0m\u001b[0m\n\u001b[1;32m      9\u001b[0m \u001b[0mplt\u001b[0m\u001b[0;34m.\u001b[0m\u001b[0mfigure\u001b[0m\u001b[0;34m(\u001b[0m\u001b[0mfigsize\u001b[0m \u001b[0;34m=\u001b[0m \u001b[0;34m(\u001b[0m\u001b[0;36m12\u001b[0m\u001b[0;34m,\u001b[0m\u001b[0;36m10\u001b[0m\u001b[0;34m)\u001b[0m\u001b[0;34m)\u001b[0m\u001b[0;34m\u001b[0m\u001b[0;34m\u001b[0m\u001b[0m\n",
      "\u001b[0;32m/tmp/ipykernel_69/730669255.py\u001b[0m in \u001b[0;36mvariables\u001b[0;34m(L_i, N_cfg, N_md, J, beta_new, obs)\u001b[0m\n\u001b[1;32m      1\u001b[0m \u001b[0;32mdef\u001b[0m \u001b[0mvariables\u001b[0m\u001b[0;34m(\u001b[0m\u001b[0mL_i\u001b[0m\u001b[0;34m,\u001b[0m \u001b[0mN_cfg\u001b[0m\u001b[0;34m,\u001b[0m \u001b[0mN_md\u001b[0m\u001b[0;34m,\u001b[0m \u001b[0mJ\u001b[0m\u001b[0;34m,\u001b[0m \u001b[0mbeta_new\u001b[0m\u001b[0;34m,\u001b[0m \u001b[0mobs\u001b[0m\u001b[0;34m)\u001b[0m\u001b[0;34m:\u001b[0m\u001b[0;34m\u001b[0m\u001b[0;34m\u001b[0m\u001b[0m\n\u001b[0;32m----> 2\u001b[0;31m     \u001b[0mchain\u001b[0m \u001b[0;34m=\u001b[0m \u001b[0mmarkov_chain\u001b[0m\u001b[0;34m(\u001b[0m\u001b[0mL_i\u001b[0m\u001b[0;34m,\u001b[0m\u001b[0mN_cfg\u001b[0m\u001b[0;34m,\u001b[0m\u001b[0mN_md\u001b[0m\u001b[0;34m,\u001b[0m\u001b[0mbeta_new\u001b[0m\u001b[0;34m,\u001b[0m\u001b[0mJ\u001b[0m\u001b[0;34m)\u001b[0m\u001b[0;34m\u001b[0m\u001b[0;34m\u001b[0m\u001b[0m\n\u001b[0m\u001b[1;32m      3\u001b[0m     \u001b[0mm\u001b[0m \u001b[0;34m=\u001b[0m \u001b[0;36m0.0\u001b[0m\u001b[0;34m\u001b[0m\u001b[0;34m\u001b[0m\u001b[0m\n\u001b[1;32m      4\u001b[0m     \u001b[0mE\u001b[0m \u001b[0;34m=\u001b[0m \u001b[0;36m0.0\u001b[0m\u001b[0;34m\u001b[0m\u001b[0;34m\u001b[0m\u001b[0m\n\u001b[1;32m      5\u001b[0m     \u001b[0;32mfor\u001b[0m \u001b[0mi\u001b[0m \u001b[0;32min\u001b[0m \u001b[0mchain\u001b[0m\u001b[0;34m:\u001b[0m\u001b[0;34m\u001b[0m\u001b[0;34m\u001b[0m\u001b[0m\n",
      "\u001b[0;32m/tmp/ipykernel_69/1804663573.py\u001b[0m in \u001b[0;36mmarkov_chain\u001b[0;34m(L_i, N_cfg, N_md, beta_new, J)\u001b[0m\n\u001b[1;32m     11\u001b[0m         \u001b[0;31m# Random sample\u001b[0m\u001b[0;34m\u001b[0m\u001b[0;34m\u001b[0m\u001b[0m\n\u001b[1;32m     12\u001b[0m         \u001b[0mp_hmc\u001b[0m \u001b[0;34m=\u001b[0m \u001b[0mnp\u001b[0m\u001b[0;34m.\u001b[0m\u001b[0mrandom\u001b[0m\u001b[0;34m.\u001b[0m\u001b[0mnormal\u001b[0m\u001b[0;34m(\u001b[0m\u001b[0msize\u001b[0m\u001b[0;34m=\u001b[0m\u001b[0;34m(\u001b[0m\u001b[0mN\u001b[0m\u001b[0;34m,\u001b[0m\u001b[0mN\u001b[0m\u001b[0;34m)\u001b[0m\u001b[0;34m)\u001b[0m\u001b[0;34m\u001b[0m\u001b[0;34m\u001b[0m\u001b[0m\n\u001b[0;32m---> 13\u001b[0;31m         \u001b[0mnew\u001b[0m \u001b[0;34m=\u001b[0m \u001b[0mleapfrog_2D\u001b[0m\u001b[0;34m(\u001b[0m\u001b[0mJ\u001b[0m\u001b[0;34m,\u001b[0m\u001b[0mchain\u001b[0m\u001b[0;34m[\u001b[0m\u001b[0;34m-\u001b[0m\u001b[0;36m1\u001b[0m\u001b[0;34m]\u001b[0m\u001b[0;34m,\u001b[0m \u001b[0mp_hmc\u001b[0m\u001b[0;34m,\u001b[0m \u001b[0mbeta\u001b[0m\u001b[0;34m)\u001b[0m \u001b[0;31m# Integrating leapfrog algorithm\u001b[0m\u001b[0;34m\u001b[0m\u001b[0;34m\u001b[0m\u001b[0m\n\u001b[0m\u001b[1;32m     14\u001b[0m         \u001b[0mprob\u001b[0m \u001b[0;34m=\u001b[0m \u001b[0mnp\u001b[0m\u001b[0;34m.\u001b[0m\u001b[0mexp\u001b[0m\u001b[0;34m(\u001b[0m\u001b[0mHamiltonian2D_art\u001b[0m\u001b[0;34m(\u001b[0m\u001b[0mJ\u001b[0m\u001b[0;34m,\u001b[0m\u001b[0mchain\u001b[0m\u001b[0;34m[\u001b[0m\u001b[0;34m-\u001b[0m\u001b[0;36m1\u001b[0m\u001b[0;34m]\u001b[0m\u001b[0;34m,\u001b[0m\u001b[0mp_hmc\u001b[0m\u001b[0;34m,\u001b[0m\u001b[0mbeta\u001b[0m\u001b[0;34m)\u001b[0m\u001b[0;34m-\u001b[0m\u001b[0mHamiltonian2D_art\u001b[0m\u001b[0;34m(\u001b[0m\u001b[0mJ\u001b[0m\u001b[0;34m,\u001b[0m\u001b[0mnew\u001b[0m\u001b[0;34m[\u001b[0m\u001b[0;36m1\u001b[0m\u001b[0;34m]\u001b[0m\u001b[0;34m,\u001b[0m\u001b[0mnew\u001b[0m\u001b[0;34m[\u001b[0m\u001b[0;36m0\u001b[0m\u001b[0;34m]\u001b[0m\u001b[0;34m,\u001b[0m\u001b[0mbeta\u001b[0m\u001b[0;34m)\u001b[0m\u001b[0;34m)\u001b[0m\u001b[0;34m\u001b[0m\u001b[0;34m\u001b[0m\u001b[0m\n\u001b[1;32m     15\u001b[0m \u001b[0;31m#  Given probability distribution function defined above\u001b[0m\u001b[0;34m\u001b[0m\u001b[0;34m\u001b[0m\u001b[0m\n",
      "\u001b[0;32m/tmp/ipykernel_69/4131025527.py\u001b[0m in \u001b[0;36mleapfrog_2D\u001b[0;34m(N_md, p_0, J, L)\u001b[0m\n\u001b[1;32m     12\u001b[0m         \u001b[0mL_new\u001b[0m \u001b[0;34m=\u001b[0m \u001b[0mabs\u001b[0m\u001b[0;34m(\u001b[0m\u001b[0mL_new\u001b[0m\u001b[0;34m%\u001b[0m\u001b[0;34m(\u001b[0m\u001b[0;36m2\u001b[0m\u001b[0;34m*\u001b[0m\u001b[0mnp\u001b[0m\u001b[0;34m.\u001b[0m\u001b[0mpi\u001b[0m\u001b[0;34m)\u001b[0m\u001b[0;34m)\u001b[0m\u001b[0;34m\u001b[0m\u001b[0;34m\u001b[0m\u001b[0m\n\u001b[1;32m     13\u001b[0m \u001b[0;34m\u001b[0m\u001b[0m\n\u001b[0;32m---> 14\u001b[0;31m     \u001b[0mp\u001b[0m \u001b[0;34m+=\u001b[0m  \u001b[0mP_dot_i_2D\u001b[0m\u001b[0;34m(\u001b[0m\u001b[0mJ\u001b[0m\u001b[0;34m,\u001b[0m \u001b[0mL\u001b[0m\u001b[0;34m)\u001b[0m\u001b[0;34m*\u001b[0m\u001b[0mepsilon\u001b[0m\u001b[0;34m/\u001b[0m\u001b[0;36m2\u001b[0m\u001b[0;34m\u001b[0m\u001b[0;34m\u001b[0m\u001b[0m\n\u001b[0m\u001b[1;32m     15\u001b[0m     \u001b[0mL_new\u001b[0m \u001b[0;34m-=\u001b[0m \u001b[0mphi_dot\u001b[0m\u001b[0;34m(\u001b[0m\u001b[0mp\u001b[0m\u001b[0;34m)\u001b[0m\u001b[0;34m*\u001b[0m\u001b[0mepsilon\u001b[0m\u001b[0;34m/\u001b[0m\u001b[0;36m2\u001b[0m\u001b[0;34m\u001b[0m\u001b[0;34m\u001b[0m\u001b[0m\n\u001b[1;32m     16\u001b[0m     \u001b[0mL_new\u001b[0m \u001b[0;34m=\u001b[0m \u001b[0mabs\u001b[0m\u001b[0;34m(\u001b[0m\u001b[0mL_new\u001b[0m\u001b[0;34m%\u001b[0m\u001b[0;34m(\u001b[0m\u001b[0;36m2\u001b[0m\u001b[0;34m*\u001b[0m\u001b[0mnp\u001b[0m\u001b[0;34m.\u001b[0m\u001b[0mpi\u001b[0m\u001b[0;34m)\u001b[0m\u001b[0;34m)\u001b[0m\u001b[0;34m\u001b[0m\u001b[0;34m\u001b[0m\u001b[0m\n",
      "\u001b[0;32m/tmp/ipykernel_69/1440912192.py\u001b[0m in \u001b[0;36mP_dot_i_2D\u001b[0;34m(J, L)\u001b[0m\n\u001b[1;32m      2\u001b[0m \u001b[0;34m\u001b[0m\u001b[0m\n\u001b[1;32m      3\u001b[0m \u001b[0;32mdef\u001b[0m \u001b[0mP_dot_i_2D\u001b[0m\u001b[0;34m(\u001b[0m\u001b[0mJ\u001b[0m\u001b[0;34m,\u001b[0m \u001b[0mL\u001b[0m\u001b[0;34m)\u001b[0m\u001b[0;34m:\u001b[0m\u001b[0;34m\u001b[0m\u001b[0;34m\u001b[0m\u001b[0m\n\u001b[0;32m----> 4\u001b[0;31m     \u001b[0mn\u001b[0m \u001b[0;34m=\u001b[0m \u001b[0mnp\u001b[0m\u001b[0;34m.\u001b[0m\u001b[0mshape\u001b[0m\u001b[0;34m(\u001b[0m\u001b[0mL\u001b[0m\u001b[0;34m)\u001b[0m\u001b[0;34m[\u001b[0m\u001b[0;36m0\u001b[0m\u001b[0;34m]\u001b[0m\u001b[0;34m\u001b[0m\u001b[0;34m\u001b[0m\u001b[0m\n\u001b[0m\u001b[1;32m      5\u001b[0m     \u001b[0mP_dot_i_2D\u001b[0m \u001b[0;34m=\u001b[0m \u001b[0mnp\u001b[0m\u001b[0;34m.\u001b[0m\u001b[0mzeros\u001b[0m\u001b[0;34m(\u001b[0m\u001b[0;34m(\u001b[0m\u001b[0mn\u001b[0m\u001b[0;34m,\u001b[0m\u001b[0mn\u001b[0m\u001b[0;34m)\u001b[0m\u001b[0;34m)\u001b[0m\u001b[0;34m\u001b[0m\u001b[0;34m\u001b[0m\u001b[0m\n\u001b[1;32m      6\u001b[0m \u001b[0;34m\u001b[0m\u001b[0m\n",
      "\u001b[0;31mIndexError\u001b[0m: tuple index out of range"
     ]
    }
   ],
   "source": [
    "N_cfg = 4000\n",
    "beta_new = np.arange(1,4,1) \n",
    "# beta = 1 / kb * T\n",
    "# L_i =  np.array([[2*np.pi*np.random.uniform() for x in range(N)] for y in range(N)]) #not sure, should be the random \n",
    "# sample but will we define it like this? if we do this then it will be the same as L but shouldnt be same right?\n",
    "\n",
    "mag_5 = [variables(L_i, N_cfg, N_md, J, 1/beta, \"m\") for beta in beta_new]\n",
    "\n",
    "plt.figure(figsize = (12,10))\n",
    "plt.plot(beta_new, mag_5, 'o-',label=\"Computational\")\n",
    "plt.grid()\n",
    "plt.xlabel(\"Temperature\", fontsize = 13)\n",
    "plt.ylabel(\"mag\", fontsize = 13)\n",
    "plt.legend()\n",
    "plt.title(\"m as a f(T) for N = 5\", fontsize = 20 )\n"
   ]
  },
  {
   "cell_type": "code",
   "execution_count": null,
   "id": "000f7656-0dbb-405a-b464-ca2db2f4607b",
   "metadata": {},
   "outputs": [],
   "source": []
  }
 ],
 "metadata": {
  "kernelspec": {
   "display_name": "Python 3 (ipykernel)",
   "language": "python",
   "name": "python3"
  },
  "language_info": {
   "codemirror_mode": {
    "name": "ipython",
    "version": 3
   },
   "file_extension": ".py",
   "mimetype": "text/x-python",
   "name": "python",
   "nbconvert_exporter": "python",
   "pygments_lexer": "ipython3",
   "version": "3.9.10"
  }
 },
 "nbformat": 4,
 "nbformat_minor": 5
}
