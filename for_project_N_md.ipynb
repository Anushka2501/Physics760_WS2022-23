{
 "cells": [
  {
   "cell_type": "code",
   "execution_count": 1,
   "metadata": {},
   "outputs": [],
   "source": [
    "%matplotlib inline\n",
    "\n",
    "import numpy as np\n",
    "import matplotlib.pyplot as plt\n",
    "import scipy.special as sp\n",
    "import math\n"
   ]
  },
  {
   "cell_type": "code",
   "execution_count": 20,
   "metadata": {},
   "outputs": [],
   "source": [
    "# defining latice\n",
    "L1 = [np.random.choice([1, -1]) for i in range (25)]\n",
    "L1 = np.array(L1)\n",
    "L1 = L1.reshape(5,5)\n",
    "L1[L1 == 1] = 90\n",
    "L1[L1 == -1] = 270\n",
    "\n",
    "def Hamiltonian2D(J, L, x , y, h):\n",
    "    n = np.shape(L)[0]\n",
    "    Hamiltonian2D_H = -J * ((np.cos(L[x, y] - L[x, (y+1)%n])) + (np.cos(L[x, y] - L[x, (y-1)%n])) + (np.cos(L[x, y] - L[(x+1)%n, y])) + (np.cos(L[x, y] - L[(x-1)%n, y])))\n",
    "    Hamiltonian2D_cos = h*np.cos(L[x,y]) \n",
    "    return np.array(Hamiltonian2D_H), np.array(Hamiltonian2D_cos)\n",
    "\n",
    "# print(Hamiltonian2D(1, L1, 1, 1, 1))\n"
   ]
  },
  {
   "cell_type": "code",
   "execution_count": 3,
   "metadata": {},
   "outputs": [],
   "source": [
    "# Hamiltonian array\n",
    "# print(L1)\n",
    "\n",
    "h = 1\n",
    "x, y = np.indices(L1.shape)\n",
    "L_hamiltonian = Hamiltonian2D(1,L1, x,y,h)\n",
    "# print (L_hamiltonian)"
   ]
  },
  {
   "cell_type": "code",
   "execution_count": 4,
   "metadata": {},
   "outputs": [],
   "source": [
    "# definfing Leapfrog and Artificial Hamiltonian\n",
    "\n",
    "def P_dot_i_2D(J, h, phi, b, N ):\n",
    "    P_dot_i_2D = -1*(phi/(2*b*J))+(N/2)*math.tanh((b*h)+phi)\n",
    "    return np.array(P_dot_i_2D)\n",
    "\n",
    "\n",
    "def leapfrog_2D(N_md, p_0, phi_0, J,h,b, N): \n",
    "    epsilon = 0.1/N_md\n",
    "    p = p_0\n",
    "    phi = phi_0\n",
    "    phi += p*epsilon/2\n",
    "    for i in range(N_md-1):\n",
    "        p -= P_dot_i_2D(J,h,phi,b,N)*epsilon\n",
    "        phi += p*epsilon\n",
    "    \n",
    "    p -=  P_dot_i_2D(J,h,phi,b,N)*epsilon\n",
    "    phi += p*epsilon/2\n",
    "    return p, phi\n",
    "\n",
    "\n",
    "def Hamiltonian2D_art(p, phi, J, b, h, N):\n",
    "    Hamiltonian2D_art = ((p**2)/2) + ((phi**2)/(4*b*J)) - N*np.log(2*np.cosh((b*h)+phi))\n",
    "    return Hamiltonian2D_art\n",
    "\n",
    "# print(leapfrog_2D(4, 0.1, 0.1, 1,1,1, 5))"
   ]
  },
  {
   "cell_type": "code",
   "execution_count": 17,
   "metadata": {},
   "outputs": [],
   "source": []
  },
  {
   "cell_type": "code",
   "execution_count": 23,
   "metadata": {},
   "outputs": [
    {
     "data": {
      "text/plain": [
       "[<matplotlib.lines.Line2D at 0x24710a7fc70>]"
      ]
     },
     "execution_count": 23,
     "metadata": {},
     "output_type": "execute_result"
    },
    {
     "data": {
      "image/png": "[encoded data removed]",
      "text/plain": [
       "<Figure size 640x480 with 1 Axes>"
      ]
     },
     "metadata": {},
     "output_type": "display_data"
    }
   ],
   "source": [
    "# Defining initial values\n",
    "N_md = 20\n",
    "N = 20\n",
    "p_0 = 1\n",
    "phi_0 = 1\n",
    "J = 1/N       # J should be greater than 0\n",
    "# N = 15        # N range is given between 5 to 20\n",
    "\n",
    "# ________________________________________________________________________________\n",
    "\n",
    "# for graphy plotting\n",
    "\n",
    "diff = []\n",
    "b = 1\n",
    "\n",
    "# T = 300\n",
    "# b=1/((1.380649 * (10**(-23)))*T)\n",
    "\n",
    "for i in range(N_md):\n",
    "    arr = leapfrog_2D(i+1, p_0, phi_0, J,h,b, N)\n",
    "    p_f = arr[0]          # We need final values of p_f and phi_f to calculate H_f\n",
    "    phi_f = arr[1]\n",
    "    H_f = Hamiltonian2D_art(p_f, phi_f, J, b, h, N)\n",
    "    H_0 = Hamiltonian2D_art(p_0, phi_0, J, b, h, N)\n",
    "    \n",
    "# The following is the quantity we want on y-axis\n",
    "    diff.append(abs((H_f-H_0)/H_0)) \n",
    "    \n",
    "plt.yscale('log')\n",
    "plt.plot(diff, \"o\")"
   ]
  },
  {
   "cell_type": "code",
   "execution_count": 24,
   "metadata": {},
   "outputs": [],
   "source": [
    "# Now we code the HMC algorithm\n",
    "\n",
    "# Understanding: We sample from N space and integrate the EOM's using leapfrog to get p' and phi'\n",
    "# Then we accept the value of phi' with the Metropolis accept/reject (with the given prob.) and repeat the process\n",
    "# To keep in mind: We store every value of phi regardless to generate our Markov chain. If the algorithm rejects phi' we\n",
    "# store phi\n",
    "\n",
    "# So we need to accept and reject according to the probability distribution given in the sheet which is basically exp(H)\n",
    "\n",
    "# Size of ensemble is given as N_cfg\n",
    "\n",
    "def markov_chain(phi_i,N_cfg,N_md,J,N):\n",
    "    chain = []\n",
    "    chain.append(phi_i)\n",
    "    for i in range(N_cfg):\n",
    "        p = np.random.normal(0,1)  # Random sample\n",
    "        new = leapfrog(N_md, p, chain[-1], J, beta, h, N) # Integrating leapfrog algorithm\n",
    "        prob = np.exp(hamiltonian(p,chain[-1], J, beta, h, N)-hamiltonian(new[0], new[1], J, beta, h, N))\n",
    "#  Given probability distribution function defined above\n",
    "        if prob > np.random.uniform(0,1):   # Accept/reject\n",
    "            chain.append(new[1])  \n",
    "        else:                           \n",
    "            chain.append(chain[-1]) \n",
    "    return chain"
   ]
  },
  {
   "cell_type": "code",
   "execution_count": null,
   "metadata": {},
   "outputs": [],
   "source": []
  },
  {
   "cell_type": "code",
   "execution_count": null,
   "metadata": {},
   "outputs": [],
   "source": []
  },
  {
   "cell_type": "code",
   "execution_count": null,
   "metadata": {},
   "outputs": [],
   "source": []
  },
  {
   "cell_type": "code",
   "execution_count": null,
   "metadata": {},
   "outputs": [],
   "source": []
  }
 ],
 "metadata": {
  "kernelspec": {
   "display_name": "Python 3 (ipykernel)",
   "language": "python",
   "name": "python3"
  },
  "language_info": {
   "codemirror_mode": {
    "name": "ipython",
    "version": 3
   },
   "file_extension": ".py",
   "mimetype": "text/x-python",
   "name": "python",
   "nbconvert_exporter": "python",
   "pygments_lexer": "ipython3",
   "version": "3.9.13"
  }
 },
 "nbformat": 4,
 "nbformat_minor": 4
}
