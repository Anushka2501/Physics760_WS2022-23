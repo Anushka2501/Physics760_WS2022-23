{
 "cells": [
  {
   "cell_type": "code",
   "execution_count": 1,
   "id": "393bde1d-54ed-4c21-8be8-37a6e0d4471a",
   "metadata": {},
   "outputs": [],
   "source": [
    "%matplotlib inline\n",
    "\n",
    "import numpy as np\n",
    "import matplotlib.pyplot as plt\n",
    "import scipy.special as sp\n",
    "import math"
   ]
  },
  {
   "cell_type": "code",
   "execution_count": 2,
   "id": "7059823f-edba-4568-a164-77eacc69374d",
   "metadata": {},
   "outputs": [],
   "source": [
    "N = 5\n",
    "L =  np.array([[2*np.pi*np.random.uniform() for i in range(N)] for j in range(N)])"
   ]
  },
  {
   "cell_type": "code",
   "execution_count": 3,
   "id": "0d38aaa3-993e-4631-82f2-55ddcbefd5d6",
   "metadata": {},
   "outputs": [],
   "source": [
    "\n",
    "# def Hamiltonian2D(J, L, x , y):\n",
    "#     n = np.shape(L)[0]\n",
    "#     x = int(x) \n",
    "#     y = int(y)\n",
    "#     Hamiltonian2D = -J * ((np.cos(L[x, y] - L[x, (y+1)%n])) + (np.cos(L[x, y] - L[x, (y-1)%n])) + (np.cos(L[x, y] - L[(x+1)%n, y])) + (np.cos(L[x, y] - L[(x-1)%n, y])))\n",
    "#     return np.sum(np.array(Hamiltonian2D))/2\n",
    "\n",
    "# print(Hamiltonian2D(1, L, 1, 1))"
   ]
  },
  {
   "cell_type": "code",
   "execution_count": 4,
   "id": "1f1bbc11-2293-41a9-afaf-43e209598377",
   "metadata": {},
   "outputs": [
    {
     "data": {
      "text/plain": [
       "-6.957231625337155"
      ]
     },
     "execution_count": 4,
     "metadata": {},
     "output_type": "execute_result"
    }
   ],
   "source": [
    "def Hamiltonian2D(J, L):\n",
    "    Hamiltonian2D = 0.\n",
    "    n = np.shape(L)[0]\n",
    "    for x in range (np.shape(L)[0]):\n",
    "        for y in range (np.shape(L)[0]):\n",
    "            Hamiltonian2D -= J * ((np.cos(L[x, y] - L[x, (y+1)%n])) + (np.cos(L[x, y] - L[x, (y-1)%n])) + (np.cos(L[x, y] - L[(x+1)%n, y])) + (np.cos(L[x, y] - L[(x-1)%n, y])))\n",
    "    \n",
    "    \n",
    "    return np.array(Hamiltonian2D)/2\n",
    "Hamiltonian2D(1,L)"
   ]
  },
  {
   "cell_type": "code",
   "execution_count": 5,
   "id": "189ac49a-ac53-4c75-8541-60d1bed53c46",
   "metadata": {},
   "outputs": [
    {
     "name": "stdout",
     "output_type": "stream",
     "text": [
      "-6.457231625337155\n"
     ]
    }
   ],
   "source": [
    "def Hamiltonian2D_art(J, L, P, beta):\n",
    "    n = np.shape(L)[0]\n",
    "    Hamiltonian2D_art = (P**2)/2 + beta*Hamiltonian2D(J, L)\n",
    "    return Hamiltonian2D_art\n",
    "\n",
    "print(Hamiltonian2D_art(1, L, 1, 1, ))"
   ]
  },
  {
   "cell_type": "code",
   "execution_count": 6,
   "id": "1556d861-f97a-472d-a4ce-e9e6dccabf8a",
   "metadata": {},
   "outputs": [
    {
     "name": "stdout",
     "output_type": "stream",
     "text": [
      "[[-1.92785415  0.98671363  0.80281347 -0.06627146 -0.97310582]\n",
      " [ 2.69942787 -0.10697037 -0.74916193  0.64138537  0.0730806 ]\n",
      " [-1.15996307  1.07230884  0.85797603  2.89891863 -1.65181169]\n",
      " [ 0.9106858  -1.31267496 -0.18369647  0.09843858 -2.77203035]\n",
      " [ 1.33329707 -2.59333843  0.2784473   0.18905542  0.65433011]]\n"
     ]
    }
   ],
   "source": [
    "def P_dot_i_2D(J, L):\n",
    "    n = np.shape(L)[0]\n",
    "    P_dot_i_2D = np.zeros((n,n))\n",
    "\n",
    "    for x in range (np.shape(L)[0]):\n",
    "        for y in range (np.shape(L)[0]):\n",
    "            P_dot_i_2D[x,y] -= J * ((np.sin(L[x, y] - L[x, (y+1)%n])) + (np.sin(L[x, y] - L[x, (y-1)%n])) + (np.sin(L[x, y] - L[(x+1)%n, y])) + (np.sin(L[x, y] - L[(x-1)%n, y])))\n",
    "    return P_dot_i_2D\n",
    "# print(P_dot_i_2D(1, L, 1, 1))\n",
    "\n",
    "def phi_dot(P):\n",
    "    return P\n",
    "            \n",
    "print ( P_dot_i_2D(1, L))"
   ]
  },
  {
   "cell_type": "code",
   "execution_count": 7,
   "id": "4603ca32-c6cf-4581-bb2f-478f2cce18ac",
   "metadata": {},
   "outputs": [],
   "source": [
    "# def P_dot_i_2D(J, L, x , y):\n",
    "#     n = np.shape(L)[0]\n",
    "#     P_dot_i_2D = J * ((np.sin(L[x, y] - L[x, (y+1)%n])) + (np.sin(L[x, y] - L[x, (y-1)%n])) + (np.sin(L[x, y] - L[(x+1)%n, y])) + (np.sin(L[x, y] - L[(x-1)%n, y])))\n",
    "#     return np.array(P_dot_i_2D)/2\n",
    "\n",
    "# print(P_dot_i_2D(1, L, 1, 1))\n",
    "\n",
    "# def phi_dot(P):\n",
    "#     return P\n",
    "            "
   ]
  },
  {
   "cell_type": "code",
   "execution_count": 8,
   "id": "d02fe86e-2d0d-4b6d-8ec0-e35f37027dcf",
   "metadata": {},
   "outputs": [
    {
     "name": "stdout",
     "output_type": "stream",
     "text": [
      "(array([[0.08313128, 0.10863374, 0.10702462, 0.09942012, 0.09148532],\n",
      "       [0.12361999, 0.09906401, 0.09344483, 0.10561212, 0.10063946],\n",
      "       [0.08985032, 0.1093827 , 0.10750729, 0.12536554, 0.08554665],\n",
      "       [0.1079685 , 0.08851409, 0.09839266, 0.10086134, 0.07574473],\n",
      "       [0.11166635, 0.07730829, 0.10243641, 0.10165423, 0.10572539]]), array([[5.56542806, 4.46400888, 4.69695871, 0.45735999, 2.58751148],\n",
      "       [3.31527721, 3.25134735, 1.02919346, 5.9810714 , 5.05661778],\n",
      "       [4.88074557, 2.93520698, 0.95845115, 5.7592036 , 0.83148995],\n",
      "       [1.75727818, 3.78183795, 3.05607637, 1.834485  , 2.32126571],\n",
      "       [5.47039496, 5.39046598, 4.33031187, 1.18509737, 1.44106988]]))\n"
     ]
    }
   ],
   "source": [
    "def leapfrog_2D(N_md, p_0,J, L): \n",
    "    epsilon = 0.1/N_md\n",
    "    p = p_0\n",
    "    phi = L\n",
    "    phi += phi_dot(p)*epsilon/2\n",
    "    phi = abs(phi%(2*np.pi))\n",
    "    for i in range(N_md-1):\n",
    "        p += P_dot_i_2D(J, L)*epsilon\n",
    "        phi += phi_dot(p)*epsilon\n",
    "        phi = abs(phi%(2*np.pi))\n",
    "    \n",
    "    p +=  P_dot_i_2D(J, L)*epsilon/2\n",
    "    phi -= phi_dot(p)*epsilon/2\n",
    "    phi = abs(phi%(2*np.pi))\n",
    "    return p, phi\n",
    "\n",
    "print(leapfrog_2D(4, 0.1, 0.1, L))"
   ]
  },
  {
   "cell_type": "code",
   "execution_count": 9,
   "id": "93dbd304-8679-470b-a19a-66943c402b87",
   "metadata": {},
   "outputs": [],
   "source": [
    "# Defining initial values\n",
    "N_md = 4\n",
    "N = 5\n",
    "p_0 = np.random.normal(size=(N,N))\n",
    "# phi_0 = 0.1\n",
    "J = 1       # J should be greater than 0\n",
    "# N = 15        # N range is given between 5 to 20"
   ]
  },
  {
   "cell_type": "code",
   "execution_count": 10,
   "id": "4665ffca-766f-46a3-ac1b-b4f8b8646aac",
   "metadata": {},
   "outputs": [],
   "source": [
    "# # to get leapfrom for aal the latice points\n",
    "# x, y = np.indices(L.shape)\n",
    "# L_leap = np.array(leapfrog_2D(N_md, p_0, phi_0,J, L, x , y, N))\n",
    "# L_leap"
   ]
  },
  {
   "cell_type": "code",
   "execution_count": 11,
   "id": "f65ee418-d783-4621-a426-f85308b50a97",
   "metadata": {},
   "outputs": [
    {
     "ename": "TypeError",
     "evalue": "leapfrog_2D() takes 4 positional arguments but 5 were given",
     "output_type": "error",
     "traceback": [
      "\u001b[1;31m---------------------------------------------------------------------------\u001b[0m",
      "\u001b[1;31mTypeError\u001b[0m                                 Traceback (most recent call last)",
      "\u001b[1;32m~\\AppData\\Local\\Temp\\ipykernel_1952\\650524962.py\u001b[0m in \u001b[0;36m<module>\u001b[1;34m\u001b[0m\n\u001b[0;32m      3\u001b[0m \u001b[1;32mfor\u001b[0m \u001b[0mN_md\u001b[0m \u001b[1;32min\u001b[0m \u001b[0mrange_1\u001b[0m\u001b[1;33m:\u001b[0m\u001b[1;33m\u001b[0m\u001b[1;33m\u001b[0m\u001b[0m\n\u001b[0;32m      4\u001b[0m     \u001b[0mp_0\u001b[0m \u001b[1;33m=\u001b[0m \u001b[0mnp\u001b[0m\u001b[1;33m.\u001b[0m\u001b[0mrandom\u001b[0m\u001b[1;33m.\u001b[0m\u001b[0mnormal\u001b[0m\u001b[1;33m(\u001b[0m\u001b[0msize\u001b[0m\u001b[1;33m=\u001b[0m\u001b[1;33m(\u001b[0m\u001b[0mN\u001b[0m\u001b[1;33m,\u001b[0m\u001b[0mN\u001b[0m\u001b[1;33m)\u001b[0m\u001b[1;33m)\u001b[0m\u001b[1;33m\u001b[0m\u001b[1;33m\u001b[0m\u001b[0m\n\u001b[1;32m----> 5\u001b[1;33m     \u001b[0marr\u001b[0m \u001b[1;33m=\u001b[0m \u001b[0mleapfrog_2D\u001b[0m\u001b[1;33m(\u001b[0m\u001b[0mN_md\u001b[0m\u001b[1;33m,\u001b[0m \u001b[0mp_0\u001b[0m\u001b[1;33m,\u001b[0m \u001b[0mJ\u001b[0m\u001b[1;33m,\u001b[0m\u001b[0mL\u001b[0m\u001b[1;33m,\u001b[0m \u001b[0mN\u001b[0m\u001b[1;33m)\u001b[0m\u001b[1;33m\u001b[0m\u001b[1;33m\u001b[0m\u001b[0m\n\u001b[0m\u001b[0;32m      6\u001b[0m     \u001b[0mp_f\u001b[0m \u001b[1;33m=\u001b[0m \u001b[0marr\u001b[0m\u001b[1;33m[\u001b[0m\u001b[1;36m0\u001b[0m\u001b[1;33m]\u001b[0m          \u001b[1;31m# We need final values of p_f and phi_f to calculate H_f\u001b[0m\u001b[1;33m\u001b[0m\u001b[1;33m\u001b[0m\u001b[0m\n\u001b[0;32m      7\u001b[0m     \u001b[0mphi_f\u001b[0m \u001b[1;33m=\u001b[0m \u001b[0marr\u001b[0m\u001b[1;33m[\u001b[0m\u001b[1;36m1\u001b[0m\u001b[1;33m]\u001b[0m\u001b[1;33m\u001b[0m\u001b[1;33m\u001b[0m\u001b[0m\n",
      "\u001b[1;31mTypeError\u001b[0m: leapfrog_2D() takes 4 positional arguments but 5 were given"
     ]
    }
   ],
   "source": [
    "diff = []\n",
    "range_1 = range(1,100)\n",
    "for N_md in range_1:\n",
    "    p_0 = np.random.normal(size=(N,N))\n",
    "    arr = leapfrog_2D(N_md, p_0, J,L, N)\n",
    "    p_f = arr[0]          # We need final values of p_f and phi_f to calculate H_f\n",
    "    phi_f = arr[1]\n",
    "    H_f = Hamiltonian2D_art(J, L, p_f, beta)\n",
    "    H_0 = Hamiltonian2D_art(J, L, p_0 , beta)\n",
    "    \n",
    "# The following is the quantity we want on y-axis\n",
    "    diff.append(abs((H_f-H_0)/H_0)) "
   ]
  },
  {
   "cell_type": "code",
   "execution_count": null,
   "id": "2564f288-a03b-4752-858f-87e8e84a879a",
   "metadata": {},
   "outputs": [],
   "source": [
    "diff = []\n",
    "# pf= []\n",
    "# phif = []\n",
    "beta = 1\n",
    "\n",
    "\n",
    "for i in range(N_md):\n",
    "    x, y = np.indices(L.shape)\n",
    "    L_leap = leapfrog_2D(N_md, p_0, phi_0,J, L, x , y, N)\n",
    "    # arr = leapfrog_2D(N_md, p_0, phi_0,J, L, x , y, N)\n",
    "    \n",
    "    p_f = np.array(L_leap[0][0][0])         # We need final values of p_f and phi_f to calculate H_f\n",
    "    phi_f = np.array(L_leap[1][0][0])\n",
    "    # pf.append(p_f[0])\n",
    "    # phif.append(phi_f[0])\n",
    "    H_f = Hamiltonian2D_art(J, L_leap, a , b, p_f, beta)\n",
    "    H_0 = Hamiltonian2D_art(J, L, a , b, p_0, beta)\n",
    "    \n",
    "# The following is the quantity we want on y-axis\n",
    "# diff.append(abs((H_f-H_0)/H_0)) "
   ]
  },
  {
   "cell_type": "code",
   "execution_count": null,
   "id": "1a4d80e8-ba05-4963-9a0a-8d1a8661b610",
   "metadata": {},
   "outputs": [],
   "source": [
    "# Defining initial values\n",
    "N_md = 4\n",
    "N = 20\n",
    "p_0 = 0.1\n",
    "phi_0 = 0.1\n",
    "J = 1/N       # J should be greater than 0\n",
    "# N = 15        # N range is given between 5 to 20\n",
    "\n",
    "diff = []\n",
    "range_1 = range(1,100)\n",
    "beta = 1\n",
    "for N_md in range_1:\n",
    "    x, y = np.indices(L.shape)\n",
    "    L_leap = leapfrog_2D(N_md, p_0, phi_0, J, L, x, y, N)\n",
    "    # arr = leapfrog_2D(N_md, p_0, phi_0,J, L, x , y, N)\n",
    "    p_f = L_leap[0][x,y]          # We need final values of p_f and phi_f to calculate H_f\n",
    "    phi_f = L_leap[1][x,y]\n",
    "    H_f = Hamiltonian2D_art(J, L_leap, x, y, p_f, beta)\n",
    "    H_0 = Hamiltonian2D_art(J, L, x, y, p_0, beta)\n",
    "    \n",
    "    # The following is the quantity we want on y-axis\n",
    "    diff.append(abs((H_f-H_0)/H_0))\n",
    "\n",
    "plt.plot(range_1, diff)\n",
    "plt.xlabel('Number of Leapfrog Steps (N_md)')\n",
    "plt.ylabel('Fractional Difference in Energy')\n",
    "plt.title('Convergence Plot')\n",
    "plt.show()"
   ]
  },
  {
   "cell_type": "code",
   "execution_count": null,
   "id": "f6dd01f6-d47a-42ae-a70c-a24168ed3205",
   "metadata": {},
   "outputs": [],
   "source": []
  }
 ],
 "metadata": {
  "kernelspec": {
   "display_name": "Python 3 (ipykernel)",
   "language": "python",
   "name": "python3"
  },
  "language_info": {
   "codemirror_mode": {
    "name": "ipython",
    "version": 3
   },
   "file_extension": ".py",
   "mimetype": "text/x-python",
   "name": "python",
   "nbconvert_exporter": "python",
   "pygments_lexer": "ipython3",
   "version": "3.9.13"
  }
 },
 "nbformat": 4,
 "nbformat_minor": 5
}
