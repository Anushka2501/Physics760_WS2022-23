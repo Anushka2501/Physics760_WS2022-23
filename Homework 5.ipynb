{
 "cells": [
  {
   "cell_type": "markdown",
   "id": "7cc5f2c9-3032-4cf5-879d-7271c213189a",
   "metadata": {},
   "source": [
    "# Error Analysis"
   ]
  },
  {
   "cell_type": "markdown",
   "id": "8ea3449f-62f6-4b24-a380-ad5a9222566c",
   "metadata": {},
   "source": [
    "### Submitted by : Anushka and Yashasvee"
   ]
  },
  {
   "cell_type": "markdown",
   "id": "60ed1c8a-0b3b-4870-acad-b5e9f7ebcf91",
   "metadata": {},
   "source": [
    "### Answer 1 : Hamiltonian and EOM'S"
   ]
  },
  {
   "cell_type": "markdown",
   "id": "12642777-7e98-4f10-87d1-41665b321312",
   "metadata": {},
   "source": [
    "The artificial Hamiltonian for this 1-D integral comes out to be as follows:\n",
    "\n",
    "Using:\n",
    " $P[\\phi] = \\frac{e^{-S[\\phi]}}{Z}$\n",
    "\n",
    "Comparing the one given in the sheet, we get:\n",
    "\n",
    " $e^{{-S[\\phi]}} = \\frac{1}{Z}\\frac{e^{\\phi^2}}{2+\\phi^2}$\n",
    "\n",
    "Taking log both sides:\n",
    "\n",
    " $-S[\\phi] = \\log(e^{-\\phi^2}) - \\log({2+\\phi^2})$\n",
    "\n",
    " $ S[\\phi] = \\phi^2 + \\log(2+\\phi^2) $\n",
    "\n",
    "The general Hamiltonian is:\n",
    "\n",
    "$H[p,\\phi] = \\frac{1}{2} \\sum{p^2_i} + S[\\phi]$\n",
    "\n",
    "#### $H[p,\\phi] = \\frac{1}{2} \\sum{p^2_i}+\\phi^2 + \\log(2+\\phi^2)$\n",
    "\n",
    "The equations of motion are:\n",
    "\n",
    "(Taking $p_i$ as $p$ because this is a 1 D integral)\n",
    "\n",
    "#### $ \\dot{\\phi} = \\frac{\\partial{H}}{\\partial{p}} = p $\n",
    "#### $\\dot{p} = - \\frac{\\partial{H}}{\\partial{\\phi}} = -2 \\phi - \\frac{2\\phi}{2+\\phi^2}$\n",
    "\n"
   ]
  },
  {
   "cell_type": "markdown",
   "id": "e3acf228-c657-4523-9a25-c56047a2e655",
   "metadata": {},
   "source": [
    "### Answer 2 : Leapfrog algorithm"
   ]
  },
  {
   "cell_type": "code",
   "execution_count": 13,
   "id": "37ba50f5-bde1-42f9-ae51-096004f91099",
   "metadata": {},
   "outputs": [],
   "source": [
    "%matplotlib inline\n",
    "\n",
    "import numpy as np\n",
    "import math\n",
    "import matplotlib.pyplot as plt\n",
    "import scipy.special as sp\n",
    "from scipy.integrate import quad\n"
   ]
  },
  {
   "cell_type": "code",
   "execution_count": 14,
   "id": "ae66a296-b4bc-401b-824c-a459647a2ee6",
   "metadata": {},
   "outputs": [
    {
     "name": "stdout",
     "output_type": "stream",
     "text": [
      "0.3987449301151221\n"
     ]
    }
   ],
   "source": [
    "#  Trying integration for the given integrals via scipy for a random value of phi = 100\n",
    "\n",
    "Z = 0.746858\n",
    "\n",
    "def prob_dist(phi):\n",
    "    return np.exp(-phi**2)*(1/Z)/(2 + phi**2)\n",
    "phi = 100\n",
    "# Defining the integral\n",
    "def integrand(phi):\n",
    "    return np.cos(np.sqrt(1+phi**2))*prob_dist(phi)\n",
    "# phi = np.linspace(1,100,1000)\n",
    "\n",
    "I  = quad(integrand,-np.inf, np.inf)#, args=(phi))\n",
    "print(I[0])"
   ]
  },
  {
   "cell_type": "code",
   "execution_count": 15,
   "id": "c1df33fb-dbef-478a-b90c-c7bb510f9f0a",
   "metadata": {},
   "outputs": [
    {
     "name": "stdout",
     "output_type": "stream",
     "text": [
      "0.03498159175754428\n"
     ]
    }
   ],
   "source": [
    "def integrand_error(phi):\n",
    "    return (np.cos(np.sqrt(1+phi**2))-0.398745)**2*prob_dist(phi)\n",
    "phi = 100\n",
    "I_sigma  = quad(integrand_error,-np.inf, np.inf)#, args=(phi))\n",
    "# print(I_sigma)\n",
    "print(I_sigma[0])\n",
    "\n",
    "#  Get similar values as the sheet"
   ]
  },
  {
   "cell_type": "code",
   "execution_count": 16,
   "id": "d82f30a8-c470-41d7-b1cf-5c4b79a01ff6",
   "metadata": {},
   "outputs": [],
   "source": [
    "p = np.random.normal(0,1)\n",
    "phi = 1\n",
    "N_md = 3\n",
    "N = 20\n",
    "t = 10**6  # trajectories"
   ]
  },
  {
   "cell_type": "code",
   "execution_count": 17,
   "id": "ad352bca-d077-4b42-b515-6c11eacc5ad3",
   "metadata": {},
   "outputs": [],
   "source": [
    "def hamiltonian(p,phi):\n",
    "    return (p**2)/2 + phi**2 + np.log(2+phi**2) \n",
    "\n",
    "def phidot(p):\n",
    "    return p\n",
    "\n",
    "def pdot(phi):\n",
    "    return (-2*phi - 2*phi/(2+phi**2))\n"
   ]
  },
  {
   "cell_type": "code",
   "execution_count": 18,
   "id": "a3ba0ea6-a8c9-4fdb-8907-b84a222e6457",
   "metadata": {},
   "outputs": [],
   "source": [
    "\n",
    "def leapfrog(N_md, p, phi, N):\n",
    "    eps=0.1/N_md\n",
    "    P = p\n",
    "    Phi = phi\n",
    "    Phi=Phi+eps*0.5*phidot(p)\n",
    "    for i in range(N_md):\n",
    "        P=P+eps*pdot(Phi)\n",
    "        Phi= Phi + eps*phidot(P)\n",
    "        \n",
    "    P=P+0.5*eps*pdot(Phi)    \n",
    "    Phi=Phi-0.5*eps*phidot(P)\n",
    "    \n",
    "    return P,Phi\n",
    "     "
   ]
  },
  {
   "cell_type": "code",
   "execution_count": 19,
   "id": "851fffe5-3eb7-48af-8c43-ab0e3aebcd62",
   "metadata": {},
   "outputs": [],
   "source": [
    "diff = []\n",
    "range_1 = range(1,40)\n",
    "phi=100\n",
    "for N_md in range_1:\n",
    "    p=np.random.rand()\n",
    "    # print(p, phi)\n",
    "    arr = leapfrog(N_md, p, phi, N)\n",
    "    p_f = arr[0]          # We need final values of p_f and phi_f to calculate H_f\n",
    "    phi_f = arr[1]\n",
    "    H_f = hamiltonian(p_f,phi_f)\n",
    "    H_0 = hamiltonian(p,phi)\n",
    "    # print(H_f, H_0)\n",
    "    # print(p_f, phi_f, H_f, H_0)\n",
    "    # print(N_md)\n",
    "#     The following is the quantity we want on y-axis\n",
    "    diff.append(abs((H_f-H_0)/H_0)) "
   ]
  },
  {
   "cell_type": "code",
   "execution_count": 20,
   "id": "3b8ce392-3292-4977-b1b4-4a3f82b1fb34",
   "metadata": {},
   "outputs": [
    {
     "data": {
      "text/plain": [
       "[<matplotlib.lines.Line2D at 0x7f29f5fb3f10>]"
      ]
     },
     "execution_count": 20,
     "metadata": {},
     "output_type": "execute_result"
    },
    {
     "data": {
      "image/png": "[encoded data removed]",
      "text/plain": [
       "<Figure size 864x720 with 1 Axes>"
      ]
     },
     "metadata": {
      "needs_background": "light"
     },
     "output_type": "display_data"
    }
   ],
   "source": [
    "plt.figure(figsize=(12,10))\n",
    "plt.yscale('log')\n",
    "plt.grid()\n",
    "plt.xlabel(\"N_md\")\n",
    "plt.ylabel(\"H_f - H_o / H_o\")\n",
    "# print(diff)\n",
    "plt.title(\"Convergence of leap frog integrator\", fontsize =15)\n",
    "plt.plot(range_1, diff,'o')"
   ]
  },
  {
   "cell_type": "code",
   "execution_count": 21,
   "id": "74a0136c-f375-4051-90b0-bcf42ed31949",
   "metadata": {},
   "outputs": [],
   "source": [
    "# Now we code the HMC algorithm\n",
    "\n",
    "# Size of ensemble is given as N_cfg\n",
    "\n",
    "def markov_chain(phi_i,N_cfg,N_md,N):\n",
    "    chain = []\n",
    "    chain.append(phi_i)\n",
    "    for i in range(N_cfg):\n",
    "        p = np.random.normal(0,1)  # Random sample\n",
    "        new = leapfrog(N_md, p, chain[-1], N) # Integrating leapfrog algorithm\n",
    "        prob = np.exp(hamiltonian(p,chain[-1])-hamiltonian(new[0], new[1]))\n",
    "#  Given probability distribution function defined above\n",
    "        if prob > np.random.uniform(0,1):   # Accept/reject\n",
    "            chain.append(new[1])  \n",
    "        else:                           \n",
    "            chain.append(chain[-1]) \n",
    "    print(chain)\n",
    "    return chain\n",
    "\n"
   ]
  },
  {
   "cell_type": "code",
   "execution_count": 22,
   "id": "ce7cebc9-5a60-4672-8d2b-7f53bd9c725d",
   "metadata": {},
   "outputs": [],
   "source": [
    "#  Now we need to define observables, phi , that will be similar to the one done in Homework 2\n",
    "\n",
    "def variables(phi_i, N_cfg, N_md, N, obs):\n",
    "    chain = markov_chain(phi_i,N_cfg,N_md,N)\n",
    "#     From Part 1 we have the equations foe <m> and E so we use them here:\n",
    "    exp_val = 0.0\n",
    "    for i in range(len(chain)):\n",
    "        exp_val = exp_val + np.cos(np.sqrt(1+chain[i]**2))\n",
    "     \n",
    "    if obs == \"exp_val\":\n",
    "        var = exp_val\n",
    "        \n",
    "    return var\n",
    "\n",
    "\n",
    "\n"
   ]
  },
  {
   "cell_type": "markdown",
   "id": "290825c1-82df-4fa8-94ae-4a0976ae0d1e",
   "metadata": {},
   "source": [
    "### Answer 2 : Auto correlation function $\\Gamma (t)$"
   ]
  },
  {
   "cell_type": "code",
   "execution_count": 23,
   "id": "0d47eda0-f8f3-487c-a69c-cff627c76f5c",
   "metadata": {},
   "outputs": [],
   "source": [
    "N_cfg = 2000"
   ]
  },
  {
   "cell_type": "code",
   "execution_count": 24,
   "id": "70eb3ad3-f730-450f-abe1-a53df565f497",
   "metadata": {},
   "outputs": [],
   "source": [
    "gamma_zero = 1\n",
    "# gamma_t"
   ]
  },
  {
   "cell_type": "code",
   "execution_count": 25,
   "id": "d914dec5-6d70-4d91-993e-358d8654ee7a",
   "metadata": {},
   "outputs": [],
   "source": [
    "# Given auto correlation function\n",
    "\n",
    "def exp_func(t,tau_int):\n",
    "    return np.exp(-t/tau_int)"
   ]
  },
  {
   "cell_type": "markdown",
   "id": "e0435d8a-01b5-43c9-bca0-c49d3aa8c489",
   "metadata": {},
   "source": [
    "### Answer 3 : Binning and Auto-correlation"
   ]
  },
  {
   "cell_type": "code",
   "execution_count": 26,
   "id": "075f2f26-9163-4ef8-bde9-2612445792ef",
   "metadata": {},
   "outputs": [],
   "source": [
    "def binning(random,b):\n",
    "    I_value=np.array([])\n",
    "    for i in range (0,len(random),b):\n",
    "        I_value=0\n",
    "        for j in range(b):\n",
    "            I_value+=random[i+j]\n",
    "        I_value=I_value/b  \n",
    "        I_value.append(I_value)\n",
    "    return(I_value)\n",
    "        "
   ]
  },
  {
   "cell_type": "markdown",
   "id": "230f1109-3629-4b93-bd49-85e31b896585",
   "metadata": {},
   "source": [
    "### Answer 4 : Bootstrap Routine"
   ]
  },
  {
   "cell_type": "code",
   "execution_count": 29,
   "id": "21de71de-a8dd-4e58-93ed-2118199d0c6c",
   "metadata": {},
   "outputs": [],
   "source": [
    "# Bootstrap error\n",
    "\n",
    " \n",
    "random = variables(phi_new,N_cfg,N_md,N, exp_val)\n",
    "\n",
    "\n",
    "N_bs = 200      # Given \n",
    "\n",
    "# random data points = phi points/exp_val\n",
    "\n",
    "# we append 0(phi) in the bootstrap loop\n",
    "\n",
    "def bootstrap(random,N_bs):\n",
    "    mean = np.array([])\n",
    "    for j in range(N_bs):\n",
    "        new_var = np.array([])\n",
    "        for i in range(len(random)):  \n",
    "            new_var.append(np.random.choice(random))\n",
    "        mean.append(np.mean(new_var))\n",
    "\n",
    "    new_mean = np.mean(mean)\n",
    "    new_std = np.std(mean)\n",
    "\n",
    "    return new_std"
   ]
  }
 ],
 "metadata": {
  "kernelspec": {
   "display_name": "Python 3 (ipykernel)",
   "language": "python",
   "name": "python3"
  },
  "language_info": {
   "codemirror_mode": {
    "name": "ipython",
    "version": 3
   },
   "file_extension": ".py",
   "mimetype": "text/x-python",
   "name": "python",
   "nbconvert_exporter": "python",
   "pygments_lexer": "ipython3",
   "version": "3.9.10"
  }
 },
 "nbformat": 4,
 "nbformat_minor": 5
}
