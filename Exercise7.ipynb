{
 "cells": [
  {
   "cell_type": "markdown",
   "id": "11939191",
   "metadata": {},
   "source": [
    "# The Swendson-Wang algorithm\n",
    "Submitted by: Yashasvee Goel and Anushka Menon"
   ]
  },
  {
   "cell_type": "code",
   "execution_count": 27,
   "id": "9511b9c7",
   "metadata": {},
   "outputs": [],
   "source": [
    "# Necessary modules\n",
    "\n",
    "%matplotlib inline\n",
    "import matplotlib.pyplot as plt\n",
    "import numpy as np\n",
    "import numpy.random as rnd\n",
    "#from random import choice"
   ]
  },
  {
   "cell_type": "markdown",
   "id": "4ef43692",
   "metadata": {},
   "source": [
    "### 1. Swendson-Wang algorithm"
   ]
  },
  {
   "cell_type": "code",
   "execution_count": 28,
   "id": "e1ad5933",
   "metadata": {},
   "outputs": [],
   "source": [
    "def SW(self, grid_coordinates, spin_site_numbers, grid_spins):\n",
    "    islands = []               #list of clusters which form islands of the same spin\n",
    "    cluster_flips = []         #list which states if the cluster is flipped\n",
    "    not_visited = np.ones((self.L, self.L), dtype= bool) #Boolean for spin site visited(=False) or not visited(=True)\n",
    "    \n",
    "    bonds = bond_eval(self, grid_spins)\n",
    "    \n",
    "    for i in spin_site_numbers:\n",
    "        cluster = []\n",
    "        flip_cluster = 2*rnd.randint(2) - 1 \n",
    "        spin_site_x = grid_coordinates[0][i]\n",
    "        spin_site_y = grid_coordinates[1][i]\n",
    "        cluster, grid_spins = back_track(self, spin_site_x, spin_site_y, bonds, not_visited, cluster, grid_spins, flip_cluster)\n",
    "\n",
    "        if cluster != []:\n",
    "            islands.append(cluster)\n",
    "            cluster_flips.append(flip_cluster)                \n",
    "        \n",
    "            \n",
    "    return islands, grid_spins, cluster_flips"
   ]
  },
  {
   "cell_type": "code",
   "execution_count": 29,
   "id": "82ae5dfa",
   "metadata": {},
   "outputs": [],
   "source": [
    "#Function to go over the spins and check the bonds\n",
    "#If spins are opposite bonds set to zero\n",
    "#Otherwise set to infinity with prob, p = 1- e^-J\n",
    "\n",
    "def bond_eval(self, grid_spins):\n",
    "    bonds = np.zeros((2, self.L, self.L,),dtype=float)\n",
    "    chance_value = np.minimum(1, np.exp(-2*self.J))\n",
    "    \n",
    "    #For horizontal bonds\n",
    "    delta_spin_hor = np.abs(grid_spins+np.roll(grid_spins,-1,axis=1))/2 # Divided by 2 to normalise\n",
    "    nz_delta_spin_hor = np.asarray(np.nonzero(delta_spin_hor)) # Gives array with indices for non-zero elements\n",
    "    \n",
    "    for i in range(np.shape(nz_delta_spin_hor)[1]):\n",
    "        if rnd.binomial(1, chance_value) == 1:\n",
    "            bonds[0, nz_delta_spin_hor[0,i], nz_delta_spin_hor[1,i]] = 0\n",
    "        else:\n",
    "            bonds[0, nz_delta_spin_hor[0,i], nz_delta_spin_hor[1,i]] = np.inf\n",
    "\n",
    "    \n",
    "   #For vertical bonds\n",
    "    delta_spin_ver = np.abs(grid_spins+np.roll(grid_spins,-1,axis=0))/2 # Divided by 2 to normalise\n",
    "    nz_delta_spin_ver = np.asarray(np.nonzero(delta_spin_ver)) # Gives array with indices for non-zero elements\n",
    "\n",
    "    \n",
    "    for j in range(np.shape(nz_delta_spin_ver)[1]):\n",
    "        if rnd.binomial(1, chance_value) == 1:\n",
    "            bonds[1, nz_delta_spin_ver[0,j], nz_delta_spin_ver[1,j]] = 0\n",
    "        else:\n",
    "            bonds[1, nz_delta_spin_ver[0,j], nz_delta_spin_ver[1,j]] = np.inf\n",
    "    \n",
    "    return bonds"
   ]
  },
  {
   "cell_type": "code",
   "execution_count": 30,
   "id": "c378331d",
   "metadata": {},
   "outputs": [],
   "source": [
    "#Checks neighbour of the spins, if they are equal this functions jumps over to that spin and repeats itself\n",
    "\n",
    "def back_track(self, x, y, bonds, not_visited, cluster, grid_spins, flip_cluster):\n",
    "    if not_visited[x, y]:\n",
    "        not_visited[x, y] = False  #Visited spin site\n",
    "        cluster.append([x, y])\n",
    "        grid_spins[x, y] = grid_spins[x, y] * flip_cluster\n",
    "                \n",
    "        if bonds[0][x][y] == np.inf:\n",
    "            n_x = x\n",
    "            n_y = (y + 1)%self.L\n",
    "            cluster, grid_spins = back_track(self, n_x, n_y, bonds, not_visited, cluster, grid_spins, flip_cluster)\n",
    "            \n",
    "        if bonds[0][x][(y - 1)%self.L] == np.inf:\n",
    "            n_x = x\n",
    "            n_y = (y - 1)%self.L\n",
    "            cluster, grid_spins = back_track(self, n_x, n_y, bonds, not_visited, cluster, grid_spins, flip_cluster)\n",
    "            \n",
    "        if bonds[1][x][y] == np.inf:\n",
    "            n_x = (x + 1)%self.L\n",
    "            n_y = y\n",
    "            cluster, grid_spins = back_track(self, n_x, n_y, bonds, not_visited, cluster, grid_spins, flip_cluster)\n",
    "            \n",
    "        if bonds[1][(x - 1)%self.L][y] == np.inf:\n",
    "            n_x = (x - 1)%self.L\n",
    "            n_y = y\n",
    "            cluster, grid_spins = back_track(self, n_x, n_y, bonds, not_visited, cluster, grid_spins, flip_cluster)\n",
    "            \n",
    "    return cluster, grid_spins"
   ]
  },
  {
   "cell_type": "markdown",
   "id": "1e58dc3e",
   "metadata": {},
   "source": [
    "### 2. |m| and ϵ/J as a function of J"
   ]
  },
  {
   "cell_type": "code",
   "execution_count": null,
   "id": "d744630d",
   "metadata": {},
   "outputs": [],
   "source": [
    "#Incomplete\n",
    "\n",
    "def m_absolute():\n",
    "    m_absolute=np.append(m_absolute,np.absolute(np.mean(cluster)))\n",
    "    return m_absolute\n",
    "\n",
    "J_range = np.linspace(0.25,2,100)\n",
    "N=20\n",
    "\n",
    "\n",
    "#Plot for m_absolute vs. J\n",
    "plt.figure(figsize=(12,10))\n",
    "plt.title(\"|m| vs J \",fontsize=12)\n",
    "plt.grid()\n",
    "plt.xlabel(\"J\")\n",
    "plt.ylabel(\"|m|\")\n",
    "plt.plot(J_range, m_absolute)\n",
    "plt.show()"
   ]
  }
 ],
 "metadata": {
  "kernelspec": {
   "display_name": "Python 3 (ipykernel)",
   "language": "python",
   "name": "python3"
  },
  "language_info": {
   "codemirror_mode": {
    "name": "ipython",
    "version": 3
   },
   "file_extension": ".py",
   "mimetype": "text/x-python",
   "name": "python",
   "nbconvert_exporter": "python",
   "pygments_lexer": "ipython3",
   "version": "3.8.10"
  }
 },
 "nbformat": 4,
 "nbformat_minor": 5
}
