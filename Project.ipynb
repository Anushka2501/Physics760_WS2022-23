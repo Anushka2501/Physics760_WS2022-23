{
 "cells": [
  {
   "cell_type": "markdown",
   "id": "8cf5df3e",
   "metadata": {},
   "source": [
    "## Computational Physics Project\n",
    "Anushka Menon, Arsalan Ahmad Chattha, Yashasvee Goel "
   ]
  },
  {
   "cell_type": "markdown",
   "id": "13179dc8",
   "metadata": {},
   "source": [
    "### XY Model"
   ]
  },
  {
   "cell_type": "code",
   "execution_count": null,
   "id": "5525cb8a",
   "metadata": {},
   "outputs": [],
   "source": [
    "%matplotlib inline\n",
    "\n",
    "import numpy as np\n",
    "import matplotlib.pyplot as plt\n",
    "import scipy.special as sp\n",
    "import math"
   ]
  },
  {
   "cell_type": "code",
   "execution_count": 29,
   "id": "0c70a598",
   "metadata": {},
   "outputs": [],
   "source": [
    "\n",
    "#def p_dot(J, phi):\n",
    "#    sum=0\n",
    "#    for i,j in range():\n",
    "#        sum+= np.sin(phi[i]-phi[j+1])+np.sin(phi[i]-phi[j-1])+np.sin(phi[i+1]-phi[j])+np.sin(phi[i-1]-phi[j])\n",
    "#    pdot = -J*sum\n",
    "#    return np.array(pdot)  \n",
    "\n",
    "def p_dot(J, L):\n",
    "    p_dot=[]\n",
    "    for i in range():\n",
    "            for j in range():\n",
    "                P[i, j] = 0\n",
    "                P[i, j] += np.sin((L[i, j] - L[i, (j + 1) % len(L)]))\n",
    "                P[i, j] += np.sin((L[i, j] - L[i, (j - 1) % len(L)]))\n",
    "                P[i, j] += np.sin((L[i, j] - L[(i + 1) % len(L), j]))\n",
    "                P[i, j] += np.sin((L[i, j] - L[(i - 1) % len(L), j]))\n",
    "                p_dot = -J*P[i, j]\n",
    "    return np.array(p_dot) \n",
    "\n",
    "                               \n",
    "#def Hamiltonian(J, phi):\n",
    "#    return -J*np.sum(np.cos(phi_i-phi_j))\n",
    "\n",
    "def Hamiltonian(J, L):\n",
    "    Hamiltonian = []\n",
    "    for i in range():\n",
    "            for j in range():\n",
    "                H[i, j] = 0\n",
    "                H[i, j] += np.cos((L[i, j] - L[i, (j + 1) % len(L) ]))\n",
    "                H[i, j] += np.cos((L[i, j] - L[i, (j - 1) % len(L)]))\n",
    "                H[i, j] += np.cos((L[i, j] - L[(i + 1) % len(L), j]))\n",
    "                H[i, j] += np.cos((L[i, j] - L[(i - 1) % len(L), j]))\n",
    "                Hamiltonian = -J*H[i, j]\n",
    "    return np.array(Hamiltonian) \n",
    "   "
   ]
  },
  {
   "cell_type": "code",
   "execution_count": 30,
   "id": "46713c7a",
   "metadata": {},
   "outputs": [],
   "source": [
    "def leapfrog(N_md, p_0, phi_0, J, N): \n",
    "    epsilon = 0.1/N_md\n",
    "    p = p_0\n",
    "    phi = phi_0\n",
    "    #phi += phi_dot*epsilon/2\n",
    "    for i in range(N_md-1):\n",
    "        p += p_dot(J, phi)*epsilon\n",
    "        #phi += phi_dot*epsilon\n",
    "    \n",
    "    p +=  p_dot(J, phi)*epsilon/2\n",
    "    #phi -= phi_dot*epsilon/2\n",
    "    return pi, phi"
   ]
  },
  {
   "cell_type": "code",
   "execution_count": 31,
   "id": "66e7bb0b",
   "metadata": {},
   "outputs": [],
   "source": [
    "# Defining initial values\n",
    "N_md = 4\n",
    "N = 20\n",
    "p_0 = 0.1\n",
    "phi_0 = 0.1\n",
    "J = 1/N       # J should be greater than 0\n",
    "N = 15        # N range is given between 5 to 20"
   ]
  },
  {
   "cell_type": "code",
   "execution_count": 32,
   "id": "4ed9535d",
   "metadata": {},
   "outputs": [
    {
     "ename": "TypeError",
     "evalue": "range expected 1 argument, got 0",
     "output_type": "error",
     "traceback": [
      "\u001b[0;31m---------------------------------------------------------------------------\u001b[0m",
      "\u001b[0;31mTypeError\u001b[0m                                 Traceback (most recent call last)",
      "Cell \u001b[0;32mIn [32], line 5\u001b[0m\n\u001b[1;32m      2\u001b[0m range_1 \u001b[38;5;241m=\u001b[39m \u001b[38;5;28mrange\u001b[39m(\u001b[38;5;241m1\u001b[39m,\u001b[38;5;241m100\u001b[39m)\n\u001b[1;32m      4\u001b[0m \u001b[38;5;28;01mfor\u001b[39;00m N_md \u001b[38;5;129;01min\u001b[39;00m range_1:\n\u001b[0;32m----> 5\u001b[0m     arr \u001b[38;5;241m=\u001b[39m \u001b[43mleapfrog\u001b[49m\u001b[43m(\u001b[49m\u001b[43mN_md\u001b[49m\u001b[43m,\u001b[49m\u001b[43m \u001b[49m\u001b[43mp_0\u001b[49m\u001b[43m,\u001b[49m\u001b[43m \u001b[49m\u001b[43mphi_0\u001b[49m\u001b[43m,\u001b[49m\u001b[43m \u001b[49m\u001b[43mJ\u001b[49m\u001b[43m,\u001b[49m\u001b[43m \u001b[49m\u001b[43mN\u001b[49m\u001b[43m)\u001b[49m\n\u001b[1;32m      6\u001b[0m     p_f \u001b[38;5;241m=\u001b[39m arr[\u001b[38;5;241m0\u001b[39m]          \u001b[38;5;66;03m# We need final values of p_f and phi_f to calculate H_f\u001b[39;00m\n\u001b[1;32m      7\u001b[0m     phi_f \u001b[38;5;241m=\u001b[39m arr[\u001b[38;5;241m1\u001b[39m]\n",
      "Cell \u001b[0;32mIn [30], line 10\u001b[0m, in \u001b[0;36mleapfrog\u001b[0;34m(N_md, p_0, phi_0, J, N)\u001b[0m\n\u001b[1;32m      7\u001b[0m     p \u001b[38;5;241m+\u001b[39m\u001b[38;5;241m=\u001b[39m p_dot(J, phi)\u001b[38;5;241m*\u001b[39mepsilon\n\u001b[1;32m      8\u001b[0m     \u001b[38;5;66;03m#phi += phi_dot*epsilon\u001b[39;00m\n\u001b[0;32m---> 10\u001b[0m p \u001b[38;5;241m+\u001b[39m\u001b[38;5;241m=\u001b[39m  \u001b[43mp_dot\u001b[49m\u001b[43m(\u001b[49m\u001b[43mJ\u001b[49m\u001b[43m,\u001b[49m\u001b[43m \u001b[49m\u001b[43mphi\u001b[49m\u001b[43m)\u001b[49m\u001b[38;5;241m*\u001b[39mepsilon\u001b[38;5;241m/\u001b[39m\u001b[38;5;241m2\u001b[39m\n\u001b[1;32m     11\u001b[0m \u001b[38;5;66;03m#phi -= phi_dot*epsilon/2\u001b[39;00m\n\u001b[1;32m     12\u001b[0m \u001b[38;5;28;01mreturn\u001b[39;00m pi, phi\n",
      "Cell \u001b[0;32mIn [29], line 10\u001b[0m, in \u001b[0;36mp_dot\u001b[0;34m(J, L)\u001b[0m\n\u001b[1;32m      8\u001b[0m \u001b[38;5;28;01mdef\u001b[39;00m \u001b[38;5;21mp_dot\u001b[39m(J, L):\n\u001b[1;32m      9\u001b[0m     p_dot\u001b[38;5;241m=\u001b[39m[]\n\u001b[0;32m---> 10\u001b[0m     \u001b[38;5;28;01mfor\u001b[39;00m i \u001b[38;5;129;01min\u001b[39;00m \u001b[38;5;28;43mrange\u001b[39;49m\u001b[43m(\u001b[49m\u001b[43m)\u001b[49m:\n\u001b[1;32m     11\u001b[0m             \u001b[38;5;28;01mfor\u001b[39;00m j \u001b[38;5;129;01min\u001b[39;00m \u001b[38;5;28mrange\u001b[39m():\n\u001b[1;32m     12\u001b[0m                 P[i, j] \u001b[38;5;241m=\u001b[39m \u001b[38;5;241m0\u001b[39m\n",
      "\u001b[0;31mTypeError\u001b[0m: range expected 1 argument, got 0"
     ]
    }
   ],
   "source": [
    "diff = []\n",
    "range_1 = range(1,100)\n",
    "\n",
    "for N_md in range_1:\n",
    "    arr = leapfrog(N_md, p_0, phi_0, J, N)\n",
    "    p_f = arr[0]          # We need final values of p_f and phi_f to calculate H_f\n",
    "    phi_f = arr[1]\n",
    "    H_f = hamiltonian(p_f, phi_f, J, beta, h, N)\n",
    "    H_0 = hamiltonian(p_0, phi_0, J, beta, h, N)\n",
    "    \n",
    "# The following is the quantity we want on y-axis\n",
    "    diff.append(abs((H_f-H_0)/H_0)) "
   ]
  },
  {
   "cell_type": "code",
   "execution_count": null,
   "id": "ac58c6cb",
   "metadata": {},
   "outputs": [],
   "source": [
    "# Now we code the HMC algorithm\n",
    "\n",
    "# Understanding: We sample from N space and integrate the EOM's using leapfrog to get p' and phi'\n",
    "# Then we accept the value of phi' with the Metropolis accept/reject (with the given prob.) and repeat the process\n",
    "# To keep in mind: We store every value of phi regardless to generate our Markov chain. If the algorithm rejects phi' we\n",
    "# store phi\n",
    "\n",
    "# So we need to accept and reject according to the probability distribution given in the sheet which is basically exp(H)\n",
    "\n",
    "# Size of ensemble is given as N_cfg\n",
    "\n",
    "def markov_chain(phi_i,N_cfg,N_md,J,N):\n",
    "    chain = []\n",
    "    chain.append(phi_i)\n",
    "    for i in range(N_cfg):\n",
    "        p = np.random.normal(0,1)  # Random sample\n",
    "        new = leapfrog(N_md, p, chain[-1], J, beta, h, N) # Integrating leapfrog algorithm\n",
    "        prob = np.exp(hamiltonian(p,chain[-1], J, beta, h, N)-hamiltonian(new[0], new[1], J, beta, h, N))\n",
    "#  Given probability distribution function defined above\n",
    "        if prob > np.random.uniform(0,1):   # Accept/reject\n",
    "            chain.append(new[1])  \n",
    "        else:                           \n",
    "            chain.append(chain[-1]) \n",
    "    return chain"
   ]
  }
 ],
 "metadata": {
  "kernelspec": {
   "display_name": "Python 3 (ipykernel)",
   "language": "python",
   "name": "python3"
  },
  "language_info": {
   "codemirror_mode": {
    "name": "ipython",
    "version": 3
   },
   "file_extension": ".py",
   "mimetype": "text/x-python",
   "name": "python",
   "nbconvert_exporter": "python",
   "pygments_lexer": "ipython3",
   "version": "3.8.10"
  }
 },
 "nbformat": 4,
 "nbformat_minor": 5
}
