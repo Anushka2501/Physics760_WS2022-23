{
 "cells": [
  {
   "cell_type": "markdown",
   "id": "23c9cc0a-089d-4947-81de-2df03faf3347",
   "metadata": {},
   "source": [
    "# Spatial Correlations and Dynamical exponent"
   ]
  },
  {
   "cell_type": "markdown",
   "id": "c87e73a6-ab54-4d65-a468-370a67570d74",
   "metadata": {},
   "source": [
    "### Submitted by : Anushka and Yashasvee"
   ]
  },
  {
   "cell_type": "markdown",
   "id": "317b06b8-ccf2-491f-b6c7-6cfa8696991f",
   "metadata": {},
   "source": [
    "### Answer 1 : Is C biased?"
   ]
  },
  {
   "cell_type": "markdown",
   "id": "68dd0f80-2ba9-4736-a447-57db4b54f7c5",
   "metadata": {},
   "source": [
    "According to me, C is not biased. Intuitively, we talked about m not being zero and how to resolve the issue. If we pick up any spin, it is possible it will be surrounded by similar spin configurations, so flipping it does not make much sense but that is when we introduced this two point correlation function which is translationally invariant.\n",
    "So even if m is biased, C is not biased. "
   ]
  },
  {
   "cell_type": "markdown",
   "id": "9e38a77f-df7f-45ef-a94e-8bcc29a02757",
   "metadata": {
    "tags": []
   },
   "source": [
    "### Answer 2 : C for r = 0"
   ]
  },
  {
   "cell_type": "markdown",
   "id": "19a8bd4a-9c10-4071-bf74-5e8fccc57fd6",
   "metadata": {},
   "source": [
    "According to the convolution formula, if r=0 then the overlap is 100 percent, which means that we just sum over the same site and get $\\Lambda$ , which in turn cancels from the one in denominator and hence, C is 1 for r = 0"
   ]
  },
  {
   "cell_type": "markdown",
   "id": "d975987e-2b9e-42f4-8740-6037452faaab",
   "metadata": {},
   "source": [
    "### Answer 3 : Implementing C via convolution"
   ]
  },
  {
   "cell_type": "code",
   "execution_count": 1,
   "id": "895120d3-17bf-4cd5-94b7-a74f882fa8b9",
   "metadata": {},
   "outputs": [],
   "source": [
    "# What is convolution? A convolution is an integral that expresses the amount of overlap of one function as it is\n",
    "# shifted over another function.  It therefore \"blends\" one function with another."
   ]
  },
  {
   "cell_type": "code",
   "execution_count": 127,
   "id": "c6b8057f-1ca2-4594-acdf-03c8d4cb4826",
   "metadata": {},
   "outputs": [],
   "source": [
    "# Necessary modules\n",
    "\n",
    "%matplotlib inline\n",
    "import matplotlib.pyplot as plt\n",
    "import numpy as np\n",
    "import random as r\n",
    "from random import choice\n",
    "\n",
    "# We now work to generalize the Ising model to 2-Dimensions and or that the lattice size becomes (N_x) X (N_y) where we \n",
    "# assume periodic boundary conditions in both, x and y, directions. It is given that we use the same coupling constant in\n",
    "# both directions.\n",
    "\n",
    "# Number of sweeps for thermalization for every value of J,h\n",
    "n_therm = 10000\n",
    "\n",
    "# Number of measurements for each J,h\n",
    "n_meas = 10000\n",
    "\n",
    "# External magnetic field\n",
    "h = 0"
   ]
  },
  {
   "cell_type": "code",
   "execution_count": null,
   "id": "be81ab96-b28e-4d20-ac8b-54424757e8ae",
   "metadata": {},
   "outputs": [],
   "source": []
  },
  {
   "cell_type": "code",
   "execution_count": 128,
   "id": "89c5d7d7-ebe8-484a-b899-c7f283e359ea",
   "metadata": {},
   "outputs": [],
   "source": [
    "# add the sum thing, check notes. the above thing is just the fft of the integral, you gotta sum it !\n",
    "# equation 6 in homework sheet!\n",
    "\n",
    "# wrong probably\n",
    "# n=5\n",
    "# C_r = (1/n**2)*np.sum(C)"
   ]
  },
  {
   "cell_type": "code",
   "execution_count": 129,
   "id": "17c50310-fd93-46f8-98a5-dd997bd96984",
   "metadata": {},
   "outputs": [],
   "source": [
    "J_c = 0.44068 # Critical J"
   ]
  },
  {
   "cell_type": "code",
   "execution_count": 130,
   "id": "fdf414d3-c625-48e5-add8-765fb34f521c",
   "metadata": {},
   "outputs": [],
   "source": [
    "# To calculate change in energy after one spin flips at position (x,y)\n",
    "\n",
    "# This is the general formula and we have already defined h=0 above\n",
    "def energy_flip(s,J,h,x,y,n):\n",
    "#     Here, the s is the spin, x and y are th positions of the 2 D lattice, J,n, and h are the same variables as defined \n",
    "#     before.\n",
    "#     The function calculates the energy after the spin at one site is flipped.\n",
    "    return 2 * s[x][y]*(J*(s[((x+1)%n)][y] + s[((x-1)%n)][y] + s[x][((y+1)%n)] + s[x][((y-1)%n)]) + h)\n",
    "\n",
    "\n",
    "def energy(s,J,h,x,y,n):\n",
    "    return -J*((s[((x+1)%n)][y] + s[((x-1)%n)][y] + s[x][((y+1)%n)] + s[x][((y-1)%n)])*s[x][y])-h*s[x][y]\n"
   ]
  },
  {
   "cell_type": "code",
   "execution_count": 131,
   "id": "5eb01fe5-3079-464c-9934-bc07b134f6a1",
   "metadata": {},
   "outputs": [],
   "source": [
    "#  Beginning by defining the two point correlation function\n",
    "\n",
    "# Taken from the discussion in the tutorial\n",
    "\n",
    "# This function returns the fft values and takes care of k and -k indices in the summation\n",
    "\n",
    "# skp = +k and skm = -k\n",
    "n=5\n",
    "s = [[choice((+1,-1)) for x in range(n)] for y in range(n)] \n",
    "def C(s,n):\n",
    "    \n",
    "#     this is the equation 5 of homework sheet\n",
    "    \n",
    "    skp = np.fft.fft2(s, norm = 'forward')   # 2 D fft\n",
    "    # print(skp)\n",
    "    # print(skp.shape)\n",
    "    skm = np.fft.ifft2(s, norm = 'backward')  # 2 D ifft\n",
    "    return np.fft.fft2(skm*skp, norm = 'backward')/n**2"
   ]
  },
  {
   "cell_type": "code",
   "execution_count": 132,
   "id": "e1e138c3-9484-4a72-b75a-fda78f77bbaf",
   "metadata": {},
   "outputs": [
    {
     "data": {
      "text/plain": [
       "array([[ 0.04  +0.j,  0.0016+0.j,  0.008 +0.j,  0.008 +0.j,  0.0016+0.j],\n",
       "       [ 0.008 +0.j, -0.0048+0.j, -0.0048+0.j, -0.0048+0.j, -0.0112+0.j],\n",
       "       [-0.0048+0.j,  0.008 +0.j,  0.0016+0.j,  0.0016+0.j,  0.0016+0.j],\n",
       "       [-0.0048+0.j,  0.0016+0.j,  0.0016+0.j,  0.0016+0.j,  0.008 +0.j],\n",
       "       [ 0.008 +0.j, -0.0112+0.j, -0.0048+0.j, -0.0048+0.j, -0.0048+0.j]])"
      ]
     },
     "execution_count": 132,
     "metadata": {},
     "output_type": "execute_result"
    }
   ],
   "source": [
    "C(s,n)"
   ]
  },
  {
   "cell_type": "code",
   "execution_count": 137,
   "id": "0b15e5bb-7d21-4424-8b0a-ade9bc49b98c",
   "metadata": {},
   "outputs": [],
   "source": [
    "# fft of sx and sy\n",
    "\n",
    "def variables(n,J,h,r): \n",
    "    \n",
    "# Defining local arrays\n",
    "    \n",
    "    # m = np.array([])  # Magnetization\n",
    "    # E = np.array([])  # Energy\n",
    "    # m_absolute = np.array([]) # Absolute value of magnetization\n",
    "    prob = np.array([]) # Probability information\n",
    "    Conv = np.array([])\n",
    "#   Now we need to assign spins to the site and because this is a 2D lattice, we have to keep in mind the dimensions \n",
    "#   x and y and do that. This has been done as follows:\n",
    "#   The variable (s) is the spin here and n is some random integer\n",
    "\n",
    "    s = [[choice((+1,-1)) for x in range(n)] for y in range(n)] \n",
    "\n",
    "    for j in range(n_therm):  \n",
    "#         Assigning a random integer value to x and y\n",
    "        x = np.random.randint(n) \n",
    "        # r = np.random.randint(n) \n",
    "        y= (x+r) % n  # Implementing the Translational Property\n",
    "        \n",
    "#   We need to define the change of energy after flipping the lattice site (x,y) picked randomly. We call the defined \n",
    "#   function energy_flip to calculate that.\n",
    "        # print(x,y)\n",
    "        delta_energy = energy_flip(s,J,h,x,y,n) \n",
    "        if delta_energy < 0:\n",
    "            s[x][y] *= -1         # Condition to accept the spin flip\n",
    "        else:\n",
    "            if np.random.uniform(0,1) <= np.exp(-delta_energy): \n",
    "                s[x][y] *= -1\n",
    "    \n",
    "    for i in range(n_meas):\n",
    "        newarray = np.zeros([n,n])\n",
    "       \n",
    "        for k in range(n):             #sweeping the lattice\n",
    "            # x = j % n\n",
    "            # y = j // n\n",
    "            x = k\n",
    "            y = (k + r) % n\n",
    "            delta_energy = energy_flip(s,J,h,x,y,n)\n",
    "            if delta_energy < 0:\n",
    "                s[x][y] *= -1         # Condition to accept the spin flip\n",
    "            else:\n",
    "                if np.random.uniform(0,1) <= np.exp(-delta_energy): \n",
    "                    s[x][y] *= -1\n",
    "                    prob = np.append(prob,1.)   # Accept.\n",
    "                else:                                    \n",
    "                    prob = np.append(prob,0.)    # We reject the other values.\n",
    "        newarray = C(s,n)\n",
    "            # Cxy = C(s[x][y],n)\n",
    "        C_r=0\n",
    "        for k in range(n):\n",
    "            x = k\n",
    "            y = (k+r) % n\n",
    "            C_r += newarray[x][y]\n",
    "        # if obs == \"Conv\"\n",
    "        Conv = np.append(Conv,C_r)\n",
    "    # print(Conv)\n",
    "    obs=np.mean(Conv)\n",
    "        \n",
    "\n",
    "    return obs\n",
    "                                                                 "
   ]
  },
  {
   "cell_type": "code",
   "execution_count": 138,
   "id": "a71a31a2-ce6f-454a-b448-f75329e00e51",
   "metadata": {},
   "outputs": [],
   "source": [
    "# Q : also, for 3, i have the function for the convoluted c but how do i call it? i have to show it is 1 for r=0 but here\n",
    "# technically y = x + r for understanding \n",
    "# so do something like x+y where y is r but then operator assignment error.\n",
    "# how do i take out the value of r.\n",
    "\n",
    "# Q : so i have my function, here i just do that with metropolis hastings so how do i measure it? just take the c\n",
    "# function as the obs and append in the array and then i put different n for answer 4. \n",
    "# My understanding is then i will c as my obs and i can plot like i did before, is that it? \n",
    "# DO after confirmation"
   ]
  },
  {
   "cell_type": "code",
   "execution_count": 139,
   "id": "4f8a7f9b-dfd1-493e-8b11-04ac7587c992",
   "metadata": {},
   "outputs": [
    {
     "name": "stdout",
     "output_type": "stream",
     "text": [
      "(0.07387654320987654+0j)\n"
     ]
    }
   ],
   "source": [
    "h = 0\n",
    "c_3  = variables(3,J_c,h,0)\n",
    "print(c_3)"
   ]
  },
  {
   "cell_type": "markdown",
   "id": "29e5a77e-3743-4c1e-bb4f-98c2678b0f12",
   "metadata": {},
   "source": [
    "### Answer 4 : Behaviour of C as a function of r for different N"
   ]
  },
  {
   "cell_type": "code",
   "execution_count": null,
   "id": "dcd136c5-cc71-4aca-a923-a76cbf9681e0",
   "metadata": {},
   "outputs": [],
   "source": [
    "# something like this\n",
    "\n",
    "J_c = 0.44068\n",
    "h = 0\n",
    "r_range = np.arange(0,5,1)\n",
    "\n",
    "c_3  = [variables(3,J_c,h,r) for r in r_range]\n",
    "c_7  = [variables(7,J_c,h,r) for r in r_range]\n",
    "c_11 = [variables(11,J_c,h,r) for r in r_range]\n",
    "c_15 = [variables(15,J_c,h,r) for r in r_range]\n",
    "c_19 = [variables(19,J_c,h,r) for r in r_range]\n",
    "c_23 = [variables(23,J_c,h,r) for r in r_range]\n"
   ]
  },
  {
   "cell_type": "code",
   "execution_count": null,
   "id": "c8d08861-7874-4a90-b483-79a2714e0d2b",
   "metadata": {},
   "outputs": [],
   "source": [
    "# print()"
   ]
  },
  {
   "cell_type": "code",
   "execution_count": null,
   "id": "16c09766-e52f-446c-b0a3-7a21dfb0c938",
   "metadata": {},
   "outputs": [],
   "source": [
    "plt.figure()\n",
    "plt.plot(c_3)"
   ]
  },
  {
   "cell_type": "code",
   "execution_count": null,
   "id": "9f9e932d-b3db-4294-aeb2-4fe34113b718",
   "metadata": {},
   "outputs": [],
   "source": [
    "plt.figure()\n",
    "plt.plot(c_7)"
   ]
  },
  {
   "cell_type": "code",
   "execution_count": null,
   "id": "774d89fd-8d04-48a0-b904-f92371549fc0",
   "metadata": {},
   "outputs": [],
   "source": [
    "plt.figure()\n",
    "plt.plot(c_11)"
   ]
  },
  {
   "cell_type": "code",
   "execution_count": null,
   "id": "24010002-aa31-4b7a-bb74-f600b3b5f49b",
   "metadata": {},
   "outputs": [],
   "source": [
    "plt.figure()\n",
    "plt.plot(c_15)"
   ]
  },
  {
   "cell_type": "code",
   "execution_count": null,
   "id": "944ee952-49d5-4a6d-95c6-a1b01d0b9171",
   "metadata": {},
   "outputs": [],
   "source": [
    "plt.figure()\n",
    "plt.plot(c_19)"
   ]
  },
  {
   "cell_type": "code",
   "execution_count": null,
   "id": "55974c4b-c286-45e0-955e-281aef506f42",
   "metadata": {},
   "outputs": [],
   "source": [
    "plt.figure()\n",
    "plt.plot(c_23)"
   ]
  },
  {
   "cell_type": "markdown",
   "id": "519f2207-82d2-41bc-b37f-9e5a7c0c7e56",
   "metadata": {},
   "source": [
    "### Answer 5 : Auto correlation for absolute magnetization"
   ]
  },
  {
   "cell_type": "markdown",
   "id": "e124a9ca-1d9c-4b8c-8c98-d45cbcde5e24",
   "metadata": {},
   "source": [
    "In the other notebook. Sorry again."
   ]
  }
 ],
 "metadata": {
  "kernelspec": {
   "display_name": "Python 3 (ipykernel)",
   "language": "python",
   "name": "python3"
  },
  "language_info": {
   "codemirror_mode": {
    "name": "ipython",
    "version": 3
   },
   "file_extension": ".py",
   "mimetype": "text/x-python",
   "name": "python",
   "nbconvert_exporter": "python",
   "pygments_lexer": "ipython3",
   "version": "3.9.10"
  }
 },
 "nbformat": 4,
 "nbformat_minor": 5
}
