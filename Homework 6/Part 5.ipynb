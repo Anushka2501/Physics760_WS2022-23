{
 "cells": [
  {
   "cell_type": "markdown",
   "id": "c87e73a6-ab54-4d65-a468-370a67570d74",
   "metadata": {},
   "source": [
    "### Submitted by : Anushka and Yashasvee"
   ]
  },
  {
   "cell_type": "markdown",
   "id": "15bd9101-bcbd-4541-bcaa-fc9c68d924bf",
   "metadata": {},
   "source": [
    "### Answer 5 : Autocorrelation time τ for the absolute magnetization\n",
    "\n",
    "\n",
    "This is only for part 5. Sorry for the confusion."
   ]
  },
  {
   "cell_type": "code",
   "execution_count": 55,
   "id": "c6b8057f-1ca2-4594-acdf-03c8d4cb4826",
   "metadata": {},
   "outputs": [],
   "source": [
    "# Necessary modules\n",
    "\n",
    "%matplotlib inline\n",
    "import matplotlib.pyplot as plt\n",
    "import numpy as np\n",
    "import random as r\n",
    "from random import choice\n",
    "import sympy\n",
    "\n",
    "# We now work to generalize the Ising model to 2-Dimensions and or that the lattice size becomes (N_x) X (N_y) where we \n",
    "# assume periodic boundary conditions in both, x and y, directions. It is given that we use the same coupling constant in\n",
    "# both directions.\n",
    "\n",
    "# Number of sweeps for thermalization for every value of J,h\n",
    "n_therm = 20000\n",
    "\n",
    "# Number of measurements for each J,h\n",
    "n_meas = 100  \n",
    "\n",
    "# External magnetic field\n",
    "h = 0"
   ]
  },
  {
   "cell_type": "code",
   "execution_count": 56,
   "id": "be81ab96-b28e-4d20-ac8b-54424757e8ae",
   "metadata": {},
   "outputs": [],
   "source": [
    "#  Beginning by defining the two point correlation function\n",
    "\n",
    "# Taken from the discussion in the tutorial\n",
    "\n",
    "# This function returns the ft values and takes care of k and -k indices in the summation\n",
    "\n",
    "def C(s):\n",
    "    skp = np.fft.fft2(s, norm = 'backward')\n",
    "    # print(skp)\n",
    "    skm = np.fft.ifft2(s, norm = 'forward')\n",
    "    return np.fft.fft2(skm*skp, norm = 'backward')/s.size**2"
   ]
  },
  {
   "cell_type": "code",
   "execution_count": 57,
   "id": "17c50310-fd93-46f8-98a5-dd997bd96984",
   "metadata": {},
   "outputs": [],
   "source": [
    "J_c = 0.44068 # Critical J"
   ]
  },
  {
   "cell_type": "code",
   "execution_count": 58,
   "id": "fdf414d3-c625-48e5-add8-765fb34f521c",
   "metadata": {},
   "outputs": [],
   "source": [
    "# To calculate change in energy after one spin flips at position (x,y)\n",
    "\n",
    "# This is the general formula and we have already defined h=0 above\n",
    "def energy_flip(s,J,h,x,y,n):\n",
    "#     Here, the s is the spin, x and y are th positions of the 2 D lattice, J,n, and h are the same variables as defined \n",
    "#     before.\n",
    "#     The function calculates the energy after the spin at one site is flipped.\n",
    "    return 2 * s[x][y]*(J*(s[((x+1)%n)][y] + s[((x-1)%n)][y] + s[x][((y+1)%n)] + s[x][((y-1)%n)]) + h)\n",
    "\n",
    "\n",
    "def energy(s,J,h,x,y,n):\n",
    "    return -J*((s[((x+1)%n)][y] + s[((x-1)%n)][y] + s[x][((y+1)%n)] + s[x][((y-1)%n)])*s[x][y])-h*s[x][y]\n"
   ]
  },
  {
   "cell_type": "code",
   "execution_count": 59,
   "id": "0b15e5bb-7d21-4424-8b0a-ade9bc49b98c",
   "metadata": {},
   "outputs": [],
   "source": [
    "# fft of sx and sy\n",
    "\n",
    "def variables(n,J,h,obs): \n",
    "    \n",
    "# Defining local arrays \n",
    "    \n",
    "    m = np.array([])  # Magnetization\n",
    "    E = np.array([])  # Energy\n",
    "    m_absolute = np.array([]) # Absolute value of magnetization\n",
    "    prob = np.array([]) # Probability information\n",
    "    \n",
    "#   Now we need to assign spins to the site and because this is a 2D lattice, we have to keep in mind the dimensions \n",
    "#   x and y and do that. This has been done as follows:\n",
    "#   The variable (s) is the spin here and n is some random integer\n",
    "\n",
    "    s = [[choice((+1,-1)) for x in range(n)] for y in range(n)] \n",
    "\n",
    "    for j in range(n_therm):  \n",
    "#         Assigning a random integer value to x and y\n",
    "        x = np.random.randint(n) \n",
    "        y = np.random.randint(n) \n",
    "        \n",
    "#   We need to define the change of energy after flipping the lattice site (x,y) picked randomly. We call the defined \n",
    "#   function energy_flip to calculate that.\n",
    "       \n",
    "        delta_energy = energy_flip(s,J,h,x,y,n) \n",
    "        if delta_energy < 0:\n",
    "            s[x][y] *= -1         # Condition to accept the spin flip\n",
    "        else:\n",
    "            if np.random.uniform(0,1) <= np.exp(-delta_energy): \n",
    "                s[x][y] *= -1\n",
    "    \n",
    "    for i in range(n_meas):\n",
    "        for j in range(n**2):  #sweeping the lattice\n",
    "            x = j % n\n",
    "            y = j // n\n",
    "            delta_energy = energy_flip(s,J,h,x,y,n)\n",
    "            if delta_energy < 0:\n",
    "                s[x][y] *= -1         # Condition to accept the spin flip\n",
    "            else:\n",
    "                if np.random.uniform(0,1) <= np.exp(-delta_energy): \n",
    "                    s[x][y] *= -1\n",
    "                    prob = np.append(prob,1.)   # Accept.\n",
    "                else:                                    \n",
    "                    prob = np.append(prob,0.)    # We reject the other values.\n",
    "    \n",
    "        #         Measurements\n",
    "        \n",
    "        if obs == \"m\":\n",
    "            m=np.append(m,np.mean(s))\n",
    "            obs=np.mean(m)\n",
    "        if obs == \"E\":\n",
    "            temp = np.array([])\n",
    "            for x in range(n):\n",
    "                for y in range(n): \n",
    "                    temp = np.append(temp,energy(s,J,h,x,y,n))\n",
    "            E=np.append(E,np.mean(temp))\n",
    "            obs=np.mean(E)\n",
    "        if obs == \"m_absolute\":\n",
    "            m_absolute=np.append(m_absolute,np.absolute(np.mean(s)))\n",
    "            obs=np.mean(m_absolute)\n",
    "    \n",
    "    return obs\n",
    "                "
   ]
  },
  {
   "cell_type": "code",
   "execution_count": 60,
   "id": "a71a31a2-ce6f-454a-b448-f75329e00e51",
   "metadata": {},
   "outputs": [],
   "source": [
    "# plt.figure(figsize=(12,10))\n",
    "# plt.title(\"C(s)\",fontsize=12)\n",
    "# plt.grid()\n",
    "# plt.plot(C,r)\n",
    "# plt.legend()"
   ]
  },
  {
   "cell_type": "code",
   "execution_count": 61,
   "id": "e038495b",
   "metadata": {},
   "outputs": [],
   "source": [
    "def int_autocorrelation(N):\n",
    "    for z in range(1,100):\n",
    "        tau_int = N**z\n",
    "    return tau_int\n",
    "\n",
    "tau_int3 = int_autocorrelation(3)\n",
    "tau_int7 = int_autocorrelation(7)\n",
    "tau_int11 = int_autocorrelation(11)\n",
    "tau_int15 = int_autocorrelation(15)\n",
    "tau_int19 = int_autocorrelation(19)\n",
    "tau_int23 = int_autocorrelation(23)"
   ]
  },
  {
   "cell_type": "markdown",
   "id": "26cb538f",
   "metadata": {},
   "source": [
    "Autocorrelation time τ as a function of N"
   ]
  },
  {
   "cell_type": "code",
   "execution_count": 63,
   "id": "0c275694",
   "metadata": {},
   "outputs": [
    {
     "data": {
      "image/png": "[encoded data removed]",
      "text/plain": [
       "<Figure size 1000x800 with 1 Axes>"
      ]
     },
     "metadata": {},
     "output_type": "display_data"
    }
   ],
   "source": [
    "# Now plotting the required variables\n",
    "\n",
    "J = 0.5     # Keeping J fixed at a certain value > J_c\n",
    "h = 0\n",
    "\n",
    "# We are supposed to take different values of N (N_x = N_y), so we define as follows:\n",
    "\n",
    "mag_3  = [variables(3,J,h,\"m_absolute\")]\n",
    "mag_7  = [variables(7,J,h,\"m_absolute\")]\n",
    "mag_11 = [variables(11,J,h,\"m_absolute\")]\n",
    "mag_15 = [variables(15,J,h,\"m_absolute\")]\n",
    "mag_19 = [variables(19,J,h,\"m_absolute\")]\n",
    "mag_23 = [variables(23,J,h,\"m_absolute\")]\n",
    "\n",
    "# For different values of N:\n",
    "\n",
    "plt.figure(figsize=(10,8))\n",
    "plt.title(\"Autocorrelation time τ as a function of N\",fontsize=12)\n",
    "plt.grid()\n",
    "plt.ylabel(\"log τ \")\n",
    "plt.xlabel(\"log |m|\")\n",
    "plt.loglog(mag_3, tau_int3,'.', mag_7, tau_int7,'.', mag_11,tau_int11,'.', mag_15, tau_int15,'.', mag_19, tau_int19,'.', mag_23, tau_int23,'.')\n",
    "plt.legend((\"N = 3\", \"N = 7\",\"N = 11\",\"N = 15\",\"N = 19\",\"N = 23\"))\n",
    "plt.show()\n",
    "    "
   ]
  },
  {
   "cell_type": "markdown",
   "id": "9cae0522",
   "metadata": {},
   "source": [
    "### Answer 5 : Dynamical variable"
   ]
  },
  {
   "cell_type": "code",
   "execution_count": null,
   "id": "02435d69",
   "metadata": {},
   "outputs": [],
   "source": []
  }
 ],
 "metadata": {
  "kernelspec": {
   "display_name": "Python 3 (ipykernel)",
   "language": "python",
   "name": "python3"
  },
  "language_info": {
   "codemirror_mode": {
    "name": "ipython",
    "version": 3
   },
   "file_extension": ".py",
   "mimetype": "text/x-python",
   "name": "python",
   "nbconvert_exporter": "python",
   "pygments_lexer": "ipython3",
   "version": "3.9.10"
  }
 },
 "nbformat": 4,
 "nbformat_minor": 5
}
