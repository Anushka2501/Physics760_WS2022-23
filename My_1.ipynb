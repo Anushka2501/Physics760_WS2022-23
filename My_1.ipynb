{
 "cells": [
  {
   "cell_type": "code",
   "execution_count": 1,
   "metadata": {},
   "outputs": [],
   "source": [
    "%matplotlib inline\n",
    "\n",
    "import numpy as np\n",
    "import matplotlib.pyplot as plt\n",
    "import scipy.special as sp\n",
    "import math\n"
   ]
  },
  {
   "cell_type": "code",
   "execution_count": 41,
   "metadata": {},
   "outputs": [
    {
     "name": "stdout",
     "output_type": "stream",
     "text": [
      "2.3938402762314324\n"
     ]
    }
   ],
   "source": [
    "\n",
    "L1 = [np.random.choice([1, -1]) for i in range (25)]\n",
    "L1 = np.array(L1)\n",
    "L1 = L1.reshape(5,5)\n",
    "L1[L1 == 1] = 90\n",
    "L1[L1 == -1] = 270\n",
    "\n",
    "def Hamiltonian2D(J, L, x , y):\n",
    "    n = np.shape(L)[0]\n",
    "    Hamiltonian2D = -J * ((np.cos(L[x, y] - L[x, (y+1)%n])) + (np.cos(L[x, y] - L[x, (y-1)%n])) + (np.cos(L[x, y] - L[(x+1)%n, y])) + (np.cos(L[x, y] - L[(x-1)%n, y])))\n",
    "    return np.array(Hamiltonian2D)\n",
    "\n",
    "print(Hamiltonian2D(1, L1, 1, 1))\n"
   ]
  },
  {
   "cell_type": "code",
   "execution_count": 46,
   "metadata": {},
   "outputs": [
    {
     "name": "stdout",
     "output_type": "stream",
     "text": [
      "[[-4.         -2.40153993 -2.40153993 -0.80307986 -2.40153993]\n",
      " [-0.80307986  2.39384028 -0.80307986 -0.80307986 -0.80307986]\n",
      " [-2.40153993 -2.40153993 -2.40153993 -0.80307986 -2.40153993]\n",
      " [-2.40153993 -4.         -2.40153993  0.79538021  0.79538021]\n",
      " [-4.         -2.40153993  0.79538021  0.79538021 -0.80307986]]\n"
     ]
    }
   ],
   "source": [
    "# Hamiltonian array\n",
    "\n",
    "x, y = np.indices(L1.shape)\n",
    "L_hamiltonian = Hamiltonian2D(1,L1, x,y)\n",
    "print (L_hamiltonian)"
   ]
  },
  {
   "cell_type": "code",
   "execution_count": 42,
   "metadata": {},
   "outputs": [
    {
     "name": "stdout",
     "output_type": "stream",
     "text": [
      "-3.2046105429353218\n"
     ]
    }
   ],
   "source": [
    "def P_dot_i_2D(J, L, x , y):\n",
    "    n = np.shape(L)[0]\n",
    "    P_dot_i_2D = J * ((np.sin(L[x, y] - L[x, (y+1)%n])) + (np.sin(L[x, y] - L[x, (y-1)%n])) + (np.sin(L[x, y] - L[(x+1)%n, y])) + (np.sin(L[x, y] - L[(x-1)%n, y])))\n",
    "    return np.array(P_dot_i_2D)\n",
    "\n",
    "print(P_dot_i_2D(1, L1, 1, 1))"
   ]
  },
  {
   "cell_type": "code",
   "execution_count": 47,
   "metadata": {},
   "outputs": [
    {
     "name": "stdout",
     "output_type": "stream",
     "text": [
      "[[ 0.          0.80115264  0.80115264  1.60230527  0.80115264]\n",
      " [ 1.60230527 -3.20461054  1.60230527 -1.60230527 -1.60230527]\n",
      " [ 0.80115264  0.80115264  0.80115264 -1.60230527 -0.80115264]\n",
      " [ 0.80115264  0.          0.80115264  2.40345791 -2.40345791]\n",
      " [ 0.          0.80115264 -2.40345791 -2.40345791  1.60230527]]\n"
     ]
    }
   ],
   "source": [
    "# P_Dot_i array\n",
    "\n",
    "\n",
    "x, y = np.indices(L1.shape)\n",
    "L_P_dot_i = P_dot_i_2D(1,L1, x,y)\n",
    "print (L_P_dot_i)"
   ]
  },
  {
   "cell_type": "code",
   "execution_count": 49,
   "metadata": {},
   "outputs": [],
   "source": [
    "def leapfrog_2D(N_md, p_0, phi_0, J,x,y, N): \n",
    "    epsilon = 0.1/N_md\n",
    "    p = p_0\n",
    "    phi = phi_0\n",
    "    #phi += phi_dot*epsilon/2\n",
    "    for i in range(N_md-1):\n",
    "        p += P_dot_i_2D(1,L1, x,y)*epsilon\n",
    "        #phi += phi_dot*epsilon\n",
    "    \n",
    "    p +=  P_dot_i_2D(1,L1, x,y)*epsilon/2\n",
    "    #phi -= phi_dot*epsilon/2\n",
    "    return p, phi"
   ]
  },
  {
   "cell_type": "code",
   "execution_count": null,
   "metadata": {},
   "outputs": [],
   "source": []
  },
  {
   "cell_type": "code",
   "execution_count": 50,
   "metadata": {},
   "outputs": [],
   "source": [
    "# # Defining initial values\n",
    "# N_md = 4\n",
    "# N = 20\n",
    "# p_0 = 0.1\n",
    "# phi_0 = 0.1\n",
    "# J = 1/N       # J should be greater than 0\n",
    "# # N = 15        # N range is given between 5 to 20"
   ]
  },
  {
   "cell_type": "code",
   "execution_count": 51,
   "metadata": {},
   "outputs": [],
   "source": [
    "# diff = []\n",
    "# range_1 = range(1,100)\n",
    "\n",
    "# for N_md in range_1:\n",
    "#     arr = leapfrog_2D(N_md, p_0, phi_0, J,x,y, N)\n",
    "#     p_f = arr[0]          # We need final values of p_f and phi_f to calculate H_f\n",
    "#     phi_f = arr[1]\n",
    "#     H_f = Hamiltonian2D(J, L, x , y)(p_f, phi_f, J, beta, h, N)\n",
    "#     H_0 = Hamiltonian2D(J, L, x , y)(p_0, phi_0, J, beta, h, N)\n",
    "    \n",
    "# # The following is the quantity we want on y-axis\n",
    "#     diff.append(abs((H_f-H_0)/H_0)) "
   ]
  },
  {
   "cell_type": "code",
   "execution_count": 6,
   "metadata": {},
   "outputs": [],
   "source": [
    "# # Now we code the HMC algorithm\n",
    "\n",
    "# # Understanding: We sample from N space and integrate the EOM's using leapfrog to get p' and phi'\n",
    "# # Then we accept the value of phi' with the Metropolis accept/reject (with the given prob.) and repeat the process\n",
    "# # To keep in mind: We store every value of phi regardless to generate our Markov chain. If the algorithm rejects phi' we\n",
    "# # store phi\n",
    "\n",
    "# # So we need to accept and reject according to the probability distribution given in the sheet which is basically exp(H)\n",
    "\n",
    "# # Size of ensemble is given as N_cfg\n",
    "\n",
    "# def markov_chain(phi_i,N_cfg,N_md,J,N):\n",
    "#     chain = []\n",
    "#     chain.append(phi_i)\n",
    "#     for i in range(N_cfg):\n",
    "#         p = np.random.normal(0,1)  # Random sample\n",
    "#         new = leapfrog(N_md, p, chain[-1], J, beta, h, N) # Integrating leapfrog algorithm\n",
    "#         prob = np.exp(hamiltonian(p,chain[-1], J, beta, h, N)-hamiltonian(new[0], new[1], J, beta, h, N))\n",
    "# #  Given probability distribution function defined above\n",
    "#         if prob > np.random.uniform(0,1):   # Accept/reject\n",
    "#             chain.append(new[1])  \n",
    "#         else:                           \n",
    "#             chain.append(chain[-1]) \n",
    "#     return chain"
   ]
  },
  {
   "cell_type": "code",
   "execution_count": null,
   "metadata": {},
   "outputs": [],
   "source": []
  }
 ],
 "metadata": {
  "kernelspec": {
   "display_name": "Python 3",
   "language": "python",
   "name": "python3"
  },
  "language_info": {
   "codemirror_mode": {
    "name": "ipython",
    "version": 3
   },
   "file_extension": ".py",
   "mimetype": "text/x-python",
   "name": "python",
   "nbconvert_exporter": "python",
   "pygments_lexer": "ipython3",
   "version": "3.7.6"
  }
 },
 "nbformat": 4,
 "nbformat_minor": 4
}
