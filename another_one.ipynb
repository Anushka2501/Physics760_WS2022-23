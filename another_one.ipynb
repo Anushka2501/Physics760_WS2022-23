{
 "cells": [
  {
   "cell_type": "code",
   "execution_count": 1,
   "id": "7ae2dbcf-ce43-4375-aa80-390aaececb07",
   "metadata": {},
   "outputs": [
    {
     "name": "stdout",
     "output_type": "stream",
     "text": [
      "Mean magnetization:  0.5262619146442015\n",
      "Energy per site:  -0.9244867957226255\n"
     ]
    }
   ],
   "source": [
    "import numpy as np\n",
    "\n",
    "# Define parameters\n",
    "J = 1.0  # coupling constant\n",
    "theta0 = np.pi / 4.0  # external field strength\n",
    "kB = 1.0  # Boltzmann constant\n",
    "T = 1.0  # temperature\n",
    "N = 5  # number of lattice points\n",
    "\n",
    "# Initialize spin angles\n",
    "theta = np.random.uniform(0, 2*np.pi, size=(N, N))\n",
    "\n",
    "# Set time step and number of time steps\n",
    "dt = 0.01\n",
    "nsteps = 100\n",
    "\n",
    "# Initialize velocity using forward Euler\n",
    "v = -J * np.sin(theta - theta0)\n",
    "\n",
    "# Perform leapfrog updates\n",
    "for i in range(nsteps):\n",
    "    # Update position\n",
    "    theta = theta + dt * v\n",
    "\n",
    "    # Update velocity using centered difference\n",
    "    v_new = -J * np.sin(theta - theta0)\n",
    "    v = v + dt * 0.5 * (v_new + v)\n",
    "\n",
    "# Calculate mean magnetization and energy per site\n",
    "cos_sum = np.sum(np.cos(theta - theta0))\n",
    "sin_sum = np.sum(np.sin(theta - theta0))\n",
    "mean_mag = np.sqrt(cos_sum**2 + sin_sum**2) / (N*N)\n",
    "energy = -J * cos_sum / (N*N) - theta0 * mean_mag\n",
    "\n",
    "print(\"Mean magnetization: \", mean_mag)\n",
    "print(\"Energy per site: \", energy)\n"
   ]
  },
  {
   "cell_type": "code",
   "execution_count": null,
   "id": "da9600d9-165b-4cf2-8485-e37921fba44d",
   "metadata": {},
   "outputs": [],
   "source": []
  }
 ],
 "metadata": {
  "kernelspec": {
   "display_name": "Python 3 (ipykernel)",
   "language": "python",
   "name": "python3"
  },
  "language_info": {
   "codemirror_mode": {
    "name": "ipython",
    "version": 3
   },
   "file_extension": ".py",
   "mimetype": "text/x-python",
   "name": "python",
   "nbconvert_exporter": "python",
   "pygments_lexer": "ipython3",
   "version": "3.9.13"
  }
 },
 "nbformat": 4,
 "nbformat_minor": 5
}
